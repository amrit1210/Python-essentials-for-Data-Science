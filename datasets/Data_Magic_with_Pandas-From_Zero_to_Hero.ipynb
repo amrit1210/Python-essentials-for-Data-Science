{
 "cells": [
  {
   "cell_type": "code",
   "execution_count": 1,
   "id": "bfc8caed-ba03-4913-bff3-129ebda7f5bf",
   "metadata": {},
   "outputs": [],
   "source": [
    "# !pip install pandas"
   ]
  },
  {
   "cell_type": "markdown",
   "id": "1572f905-5123-4f03-a44c-0f994070f588",
   "metadata": {},
   "source": [
    "Pandas Documentation: https://pandas.pydata.org/docs/"
   ]
  },
  {
   "cell_type": "code",
   "execution_count": 2,
   "id": "098a08a5-9bba-49eb-a345-e0e67f89e3d6",
   "metadata": {},
   "outputs": [],
   "source": [
    "import pandas as pd\n",
    "import numpy as np"
   ]
  },
  {
   "cell_type": "markdown",
   "id": "bba9d55c-a21e-4a6d-94dc-2d1c179d204c",
   "metadata": {},
   "source": [
    "Dataframe: Pandas Object to represent tabular(structured) data"
   ]
  },
  {
   "cell_type": "markdown",
   "id": "8a176d29-121b-41e5-bb71-3e22d4b1da6e",
   "metadata": {},
   "source": [
    "# Create DataFrame"
   ]
  },
  {
   "cell_type": "markdown",
   "id": "170d4406-4dcb-4b3d-86b5-824074908cb2",
   "metadata": {},
   "source": [
    "### From Dictionary"
   ]
  },
  {
   "cell_type": "code",
   "execution_count": 3,
   "id": "5996ee1c-f3ad-4282-a168-a86b8a164482",
   "metadata": {},
   "outputs": [
    {
     "name": "stdout",
     "output_type": "stream",
     "text": [
      "Rows: 5, Columns: 5\n"
     ]
    },
    {
     "data": {
      "text/html": [
       "<div>\n",
       "<style scoped>\n",
       "    .dataframe tbody tr th:only-of-type {\n",
       "        vertical-align: middle;\n",
       "    }\n",
       "\n",
       "    .dataframe tbody tr th {\n",
       "        vertical-align: top;\n",
       "    }\n",
       "\n",
       "    .dataframe thead th {\n",
       "        text-align: right;\n",
       "    }\n",
       "</style>\n",
       "<table border=\"1\" class=\"dataframe\">\n",
       "  <thead>\n",
       "    <tr style=\"text-align: right;\">\n",
       "      <th></th>\n",
       "      <th>ID</th>\n",
       "      <th>Name</th>\n",
       "      <th>Age</th>\n",
       "      <th>Department</th>\n",
       "      <th>Salary</th>\n",
       "    </tr>\n",
       "  </thead>\n",
       "  <tbody>\n",
       "    <tr>\n",
       "      <th>0</th>\n",
       "      <td>1</td>\n",
       "      <td>Alice</td>\n",
       "      <td>25.0</td>\n",
       "      <td>HR</td>\n",
       "      <td>50000</td>\n",
       "    </tr>\n",
       "    <tr>\n",
       "      <th>1</th>\n",
       "      <td>2</td>\n",
       "      <td>Bob</td>\n",
       "      <td>30.0</td>\n",
       "      <td>IT</td>\n",
       "      <td>65000</td>\n",
       "    </tr>\n",
       "    <tr>\n",
       "      <th>2</th>\n",
       "      <td>3</td>\n",
       "      <td>Charlie</td>\n",
       "      <td>28.0</td>\n",
       "      <td>Marketing</td>\n",
       "      <td>60000</td>\n",
       "    </tr>\n",
       "    <tr>\n",
       "      <th>3</th>\n",
       "      <td>4</td>\n",
       "      <td>Diana</td>\n",
       "      <td>NaN</td>\n",
       "      <td>Finance</td>\n",
       "      <td>72000</td>\n",
       "    </tr>\n",
       "    <tr>\n",
       "      <th>4</th>\n",
       "      <td>5</td>\n",
       "      <td>Aisha</td>\n",
       "      <td>28.0</td>\n",
       "      <td>IT</td>\n",
       "      <td>80000</td>\n",
       "    </tr>\n",
       "  </tbody>\n",
       "</table>\n",
       "</div>"
      ],
      "text/plain": [
       "   ID     Name   Age Department  Salary\n",
       "0   1    Alice  25.0         HR   50000\n",
       "1   2      Bob  30.0         IT   65000\n",
       "2   3  Charlie  28.0  Marketing   60000\n",
       "3   4    Diana   NaN    Finance   72000\n",
       "4   5    Aisha  28.0         IT   80000"
      ]
     },
     "execution_count": 3,
     "metadata": {},
     "output_type": "execute_result"
    }
   ],
   "source": [
    "data = {\n",
    "    'ID': [1, 2, 3, 4, 5],\n",
    "    'Name': ['Alice', 'Bob', 'Charlie', 'Diana', 'Aisha'],\n",
    "    'Age': [25, 30, 28, np.nan, 28],\n",
    "    'Department': ['HR', 'IT', 'Marketing', 'Finance', 'IT'],\n",
    "    'Salary': [50000, 65000, 60000, 72000, 80000]\n",
    "}\n",
    "df_hr = pd.DataFrame(data)\n",
    "rows, cols = df_hr.shape\n",
    "print(f\"Rows: {rows}, Columns: {cols}\")\n",
    "df_hr"
   ]
  },
  {
   "cell_type": "code",
   "execution_count": 4,
   "id": "c5a2c5cf-ad48-4aec-87f9-2bf8e0e77ed5",
   "metadata": {},
   "outputs": [
    {
     "data": {
      "text/plain": [
       "Index(['ID', 'Name', 'Age', 'Department', 'Salary'], dtype='object')"
      ]
     },
     "execution_count": 4,
     "metadata": {},
     "output_type": "execute_result"
    }
   ],
   "source": [
    "df_hr.columns # Shows all columns\n",
    "# Accessing a Particular column:\n",
    "# Use df_hr.Name or df_hr['Name']\n",
    "\n",
    "# Accessing a group of selected columns:\n",
    "# df_hr[['Name', 'Salary']]"
   ]
  },
  {
   "cell_type": "code",
   "execution_count": 5,
   "id": "96a171ac-528c-4adc-a504-4cec09cac4ee",
   "metadata": {},
   "outputs": [
    {
     "data": {
      "text/plain": [
       "(pandas.core.series.Series, pandas.core.frame.DataFrame)"
      ]
     },
     "execution_count": 5,
     "metadata": {},
     "output_type": "execute_result"
    }
   ],
   "source": [
    "# Important pandas datatypes:\n",
    "type(df_hr['Name']), type(df_hr[['Name', 'Salary']])"
   ]
  },
  {
   "cell_type": "code",
   "execution_count": 6,
   "id": "8ba9c81a-30ce-4822-90a3-0ea136ac074a",
   "metadata": {},
   "outputs": [
    {
     "data": {
      "text/plain": [
       "RangeIndex(start=0, stop=5, step=1)"
      ]
     },
     "execution_count": 6,
     "metadata": {},
     "output_type": "execute_result"
    }
   ],
   "source": [
    "df_hr.index"
   ]
  },
  {
   "cell_type": "code",
   "execution_count": 7,
   "id": "4be85726-daac-4b4b-84cb-c175af9f4064",
   "metadata": {},
   "outputs": [
    {
     "data": {
      "text/html": [
       "<div>\n",
       "<style scoped>\n",
       "    .dataframe tbody tr th:only-of-type {\n",
       "        vertical-align: middle;\n",
       "    }\n",
       "\n",
       "    .dataframe tbody tr th {\n",
       "        vertical-align: top;\n",
       "    }\n",
       "\n",
       "    .dataframe thead th {\n",
       "        text-align: right;\n",
       "    }\n",
       "</style>\n",
       "<table border=\"1\" class=\"dataframe\">\n",
       "  <thead>\n",
       "    <tr style=\"text-align: right;\">\n",
       "      <th></th>\n",
       "      <th>ID</th>\n",
       "      <th>Name</th>\n",
       "      <th>Age</th>\n",
       "      <th>Salary</th>\n",
       "    </tr>\n",
       "    <tr>\n",
       "      <th>Department</th>\n",
       "      <th></th>\n",
       "      <th></th>\n",
       "      <th></th>\n",
       "      <th></th>\n",
       "    </tr>\n",
       "  </thead>\n",
       "  <tbody>\n",
       "    <tr>\n",
       "      <th>HR</th>\n",
       "      <td>1</td>\n",
       "      <td>Alice</td>\n",
       "      <td>25.0</td>\n",
       "      <td>50000</td>\n",
       "    </tr>\n",
       "    <tr>\n",
       "      <th>IT</th>\n",
       "      <td>2</td>\n",
       "      <td>Bob</td>\n",
       "      <td>30.0</td>\n",
       "      <td>65000</td>\n",
       "    </tr>\n",
       "    <tr>\n",
       "      <th>Marketing</th>\n",
       "      <td>3</td>\n",
       "      <td>Charlie</td>\n",
       "      <td>28.0</td>\n",
       "      <td>60000</td>\n",
       "    </tr>\n",
       "    <tr>\n",
       "      <th>Finance</th>\n",
       "      <td>4</td>\n",
       "      <td>Diana</td>\n",
       "      <td>NaN</td>\n",
       "      <td>72000</td>\n",
       "    </tr>\n",
       "    <tr>\n",
       "      <th>IT</th>\n",
       "      <td>5</td>\n",
       "      <td>Aisha</td>\n",
       "      <td>28.0</td>\n",
       "      <td>80000</td>\n",
       "    </tr>\n",
       "  </tbody>\n",
       "</table>\n",
       "</div>"
      ],
      "text/plain": [
       "            ID     Name   Age  Salary\n",
       "Department                           \n",
       "HR           1    Alice  25.0   50000\n",
       "IT           2      Bob  30.0   65000\n",
       "Marketing    3  Charlie  28.0   60000\n",
       "Finance      4    Diana   NaN   72000\n",
       "IT           5    Aisha  28.0   80000"
      ]
     },
     "execution_count": 7,
     "metadata": {},
     "output_type": "execute_result"
    }
   ],
   "source": [
    "df_hr.set_index('Department', inplace=True)\n",
    "df_hr"
   ]
  },
  {
   "cell_type": "code",
   "execution_count": 8,
   "id": "2d9a1be3-6508-4a98-8566-d018aef565e5",
   "metadata": {},
   "outputs": [
    {
     "data": {
      "text/html": [
       "<div>\n",
       "<style scoped>\n",
       "    .dataframe tbody tr th:only-of-type {\n",
       "        vertical-align: middle;\n",
       "    }\n",
       "\n",
       "    .dataframe tbody tr th {\n",
       "        vertical-align: top;\n",
       "    }\n",
       "\n",
       "    .dataframe thead th {\n",
       "        text-align: right;\n",
       "    }\n",
       "</style>\n",
       "<table border=\"1\" class=\"dataframe\">\n",
       "  <thead>\n",
       "    <tr style=\"text-align: right;\">\n",
       "      <th></th>\n",
       "      <th>ID</th>\n",
       "      <th>Name</th>\n",
       "      <th>Age</th>\n",
       "      <th>Salary</th>\n",
       "    </tr>\n",
       "    <tr>\n",
       "      <th>Department</th>\n",
       "      <th></th>\n",
       "      <th></th>\n",
       "      <th></th>\n",
       "      <th></th>\n",
       "    </tr>\n",
       "  </thead>\n",
       "  <tbody>\n",
       "    <tr>\n",
       "      <th>IT</th>\n",
       "      <td>2</td>\n",
       "      <td>Bob</td>\n",
       "      <td>30.0</td>\n",
       "      <td>65000</td>\n",
       "    </tr>\n",
       "    <tr>\n",
       "      <th>IT</th>\n",
       "      <td>5</td>\n",
       "      <td>Aisha</td>\n",
       "      <td>28.0</td>\n",
       "      <td>80000</td>\n",
       "    </tr>\n",
       "  </tbody>\n",
       "</table>\n",
       "</div>"
      ],
      "text/plain": [
       "            ID   Name   Age  Salary\n",
       "Department                         \n",
       "IT           2    Bob  30.0   65000\n",
       "IT           5  Aisha  28.0   80000"
      ]
     },
     "execution_count": 8,
     "metadata": {},
     "output_type": "execute_result"
    }
   ],
   "source": [
    "df_hr.loc['IT']"
   ]
  },
  {
   "cell_type": "code",
   "execution_count": 9,
   "id": "959f2815-0afd-455d-b917-2155e5f06a8a",
   "metadata": {},
   "outputs": [],
   "source": [
    "df_hr.reset_index(inplace=True)"
   ]
  },
  {
   "cell_type": "code",
   "execution_count": 10,
   "id": "bc1ac4bf-cdb9-4f78-916c-ed99246c10e5",
   "metadata": {},
   "outputs": [
    {
     "data": {
      "text/html": [
       "<div>\n",
       "<style scoped>\n",
       "    .dataframe tbody tr th:only-of-type {\n",
       "        vertical-align: middle;\n",
       "    }\n",
       "\n",
       "    .dataframe tbody tr th {\n",
       "        vertical-align: top;\n",
       "    }\n",
       "\n",
       "    .dataframe thead th {\n",
       "        text-align: right;\n",
       "    }\n",
       "</style>\n",
       "<table border=\"1\" class=\"dataframe\">\n",
       "  <thead>\n",
       "    <tr style=\"text-align: right;\">\n",
       "      <th></th>\n",
       "      <th>Department</th>\n",
       "      <th>Name</th>\n",
       "      <th>Age</th>\n",
       "      <th>Salary</th>\n",
       "    </tr>\n",
       "    <tr>\n",
       "      <th>ID</th>\n",
       "      <th></th>\n",
       "      <th></th>\n",
       "      <th></th>\n",
       "      <th></th>\n",
       "    </tr>\n",
       "  </thead>\n",
       "  <tbody>\n",
       "    <tr>\n",
       "      <th>1</th>\n",
       "      <td>HR</td>\n",
       "      <td>Alice</td>\n",
       "      <td>25.0</td>\n",
       "      <td>50000</td>\n",
       "    </tr>\n",
       "    <tr>\n",
       "      <th>2</th>\n",
       "      <td>IT</td>\n",
       "      <td>Bob</td>\n",
       "      <td>30.0</td>\n",
       "      <td>65000</td>\n",
       "    </tr>\n",
       "    <tr>\n",
       "      <th>3</th>\n",
       "      <td>Marketing</td>\n",
       "      <td>Charlie</td>\n",
       "      <td>28.0</td>\n",
       "      <td>60000</td>\n",
       "    </tr>\n",
       "    <tr>\n",
       "      <th>4</th>\n",
       "      <td>Finance</td>\n",
       "      <td>Diana</td>\n",
       "      <td>NaN</td>\n",
       "      <td>72000</td>\n",
       "    </tr>\n",
       "    <tr>\n",
       "      <th>5</th>\n",
       "      <td>IT</td>\n",
       "      <td>Aisha</td>\n",
       "      <td>28.0</td>\n",
       "      <td>80000</td>\n",
       "    </tr>\n",
       "  </tbody>\n",
       "</table>\n",
       "</div>"
      ],
      "text/plain": [
       "   Department     Name   Age  Salary\n",
       "ID                                  \n",
       "1          HR    Alice  25.0   50000\n",
       "2          IT      Bob  30.0   65000\n",
       "3   Marketing  Charlie  28.0   60000\n",
       "4     Finance    Diana   NaN   72000\n",
       "5          IT    Aisha  28.0   80000"
      ]
     },
     "execution_count": 10,
     "metadata": {},
     "output_type": "execute_result"
    }
   ],
   "source": [
    "df_hr.set_index('ID', inplace=True)\n",
    "df_hr"
   ]
  },
  {
   "cell_type": "code",
   "execution_count": 11,
   "id": "8eba9085-cd1d-4a32-805d-125bc2d41ec1",
   "metadata": {},
   "outputs": [
    {
     "name": "stdout",
     "output_type": "stream",
     "text": [
      "<class 'pandas.core.frame.DataFrame'>\n",
      "Index: 5 entries, 1 to 5\n",
      "Data columns (total 4 columns):\n",
      " #   Column      Non-Null Count  Dtype  \n",
      "---  ------      --------------  -----  \n",
      " 0   Department  5 non-null      object \n",
      " 1   Name        5 non-null      object \n",
      " 2   Age         4 non-null      float64\n",
      " 3   Salary      5 non-null      int64  \n",
      "dtypes: float64(1), int64(1), object(2)\n",
      "memory usage: 200.0+ bytes\n"
     ]
    }
   ],
   "source": [
    "df_hr.info()"
   ]
  },
  {
   "cell_type": "code",
   "execution_count": 12,
   "id": "7c29c5dc-e4b2-4b8e-94e2-489cd4b4934c",
   "metadata": {},
   "outputs": [
    {
     "data": {
      "text/plain": [
       "Department    0\n",
       "Name          0\n",
       "Age           1\n",
       "Salary        0\n",
       "dtype: int64"
      ]
     },
     "execution_count": 12,
     "metadata": {},
     "output_type": "execute_result"
    }
   ],
   "source": [
    "df_hr.isna().sum()"
   ]
  },
  {
   "cell_type": "code",
   "execution_count": 13,
   "id": "16ba3909-8d9b-42ae-8120-bf375138693f",
   "metadata": {},
   "outputs": [
    {
     "data": {
      "text/html": [
       "<div>\n",
       "<style scoped>\n",
       "    .dataframe tbody tr th:only-of-type {\n",
       "        vertical-align: middle;\n",
       "    }\n",
       "\n",
       "    .dataframe tbody tr th {\n",
       "        vertical-align: top;\n",
       "    }\n",
       "\n",
       "    .dataframe thead th {\n",
       "        text-align: right;\n",
       "    }\n",
       "</style>\n",
       "<table border=\"1\" class=\"dataframe\">\n",
       "  <thead>\n",
       "    <tr style=\"text-align: right;\">\n",
       "      <th></th>\n",
       "      <th>Department</th>\n",
       "      <th>Name</th>\n",
       "      <th>Age</th>\n",
       "      <th>Salary</th>\n",
       "    </tr>\n",
       "    <tr>\n",
       "      <th>ID</th>\n",
       "      <th></th>\n",
       "      <th></th>\n",
       "      <th></th>\n",
       "      <th></th>\n",
       "    </tr>\n",
       "  </thead>\n",
       "  <tbody>\n",
       "    <tr>\n",
       "      <th>1</th>\n",
       "      <td>HR</td>\n",
       "      <td>Alice</td>\n",
       "      <td>25.0</td>\n",
       "      <td>50000</td>\n",
       "    </tr>\n",
       "    <tr>\n",
       "      <th>2</th>\n",
       "      <td>IT</td>\n",
       "      <td>Bob</td>\n",
       "      <td>30.0</td>\n",
       "      <td>65000</td>\n",
       "    </tr>\n",
       "    <tr>\n",
       "      <th>3</th>\n",
       "      <td>Marketing</td>\n",
       "      <td>Charlie</td>\n",
       "      <td>28.0</td>\n",
       "      <td>60000</td>\n",
       "    </tr>\n",
       "    <tr>\n",
       "      <th>4</th>\n",
       "      <td>Finance</td>\n",
       "      <td>Diana</td>\n",
       "      <td>27.0</td>\n",
       "      <td>72000</td>\n",
       "    </tr>\n",
       "    <tr>\n",
       "      <th>5</th>\n",
       "      <td>IT</td>\n",
       "      <td>Aisha</td>\n",
       "      <td>28.0</td>\n",
       "      <td>80000</td>\n",
       "    </tr>\n",
       "  </tbody>\n",
       "</table>\n",
       "</div>"
      ],
      "text/plain": [
       "   Department     Name   Age  Salary\n",
       "ID                                  \n",
       "1          HR    Alice  25.0   50000\n",
       "2          IT      Bob  30.0   65000\n",
       "3   Marketing  Charlie  28.0   60000\n",
       "4     Finance    Diana  27.0   72000\n",
       "5          IT    Aisha  28.0   80000"
      ]
     },
     "execution_count": 13,
     "metadata": {},
     "output_type": "execute_result"
    }
   ],
   "source": [
    "df_hr['Age'] = df_hr['Age'].fillna(np.floor(df_hr['Age'].mean())) # other ways to fill min, max, median etc\n",
    "df_hr"
   ]
  },
  {
   "cell_type": "markdown",
   "id": "2e822ca2-d69c-4ec6-b8e7-8a202aadce92",
   "metadata": {},
   "source": [
    "### From list of tuples"
   ]
  },
  {
   "cell_type": "code",
   "execution_count": 14,
   "id": "1c99f993-fda2-463b-b3b9-4e66ae539c3e",
   "metadata": {},
   "outputs": [
    {
     "name": "stdout",
     "output_type": "stream",
     "text": [
      "Rows: 3, Columns: 5\n"
     ]
    },
    {
     "data": {
      "text/html": [
       "<div>\n",
       "<style scoped>\n",
       "    .dataframe tbody tr th:only-of-type {\n",
       "        vertical-align: middle;\n",
       "    }\n",
       "\n",
       "    .dataframe tbody tr th {\n",
       "        vertical-align: top;\n",
       "    }\n",
       "\n",
       "    .dataframe thead th {\n",
       "        text-align: right;\n",
       "    }\n",
       "</style>\n",
       "<table border=\"1\" class=\"dataframe\">\n",
       "  <thead>\n",
       "    <tr style=\"text-align: right;\">\n",
       "      <th></th>\n",
       "      <th>ID</th>\n",
       "      <th>Name</th>\n",
       "      <th>Age</th>\n",
       "      <th>Department</th>\n",
       "      <th>Salary</th>\n",
       "    </tr>\n",
       "  </thead>\n",
       "  <tbody>\n",
       "    <tr>\n",
       "      <th>0</th>\n",
       "      <td>1</td>\n",
       "      <td>Alice</td>\n",
       "      <td>25</td>\n",
       "      <td>HR</td>\n",
       "      <td>50000</td>\n",
       "    </tr>\n",
       "    <tr>\n",
       "      <th>1</th>\n",
       "      <td>2</td>\n",
       "      <td>Bob</td>\n",
       "      <td>30</td>\n",
       "      <td>NaN</td>\n",
       "      <td>65000</td>\n",
       "    </tr>\n",
       "    <tr>\n",
       "      <th>2</th>\n",
       "      <td>3</td>\n",
       "      <td>Aisha</td>\n",
       "      <td>28</td>\n",
       "      <td>IT</td>\n",
       "      <td>80000</td>\n",
       "    </tr>\n",
       "  </tbody>\n",
       "</table>\n",
       "</div>"
      ],
      "text/plain": [
       "   ID   Name  Age Department  Salary\n",
       "0   1  Alice   25         HR   50000\n",
       "1   2    Bob   30        NaN   65000\n",
       "2   3  Aisha   28         IT   80000"
      ]
     },
     "execution_count": 14,
     "metadata": {},
     "output_type": "execute_result"
    }
   ],
   "source": [
    "data = [\n",
    "    (1, 'Alice', 25, 'HR', 50000),\n",
    "    (2, 'Bob', 30, np.nan, 65000),\n",
    "    (3, 'Aisha', 28, 'IT', 80000),\n",
    "]\n",
    "df = pd.DataFrame(data, columns=['ID', 'Name', 'Age', 'Department', 'Salary'])\n",
    "rows, cols = df.shape\n",
    "print(f\"Rows: {rows}, Columns: {cols}\")\n",
    "df"
   ]
  },
  {
   "cell_type": "code",
   "execution_count": 15,
   "id": "0bd9ed51-6057-489f-ad6c-7c87354dabbf",
   "metadata": {},
   "outputs": [
    {
     "name": "stdout",
     "output_type": "stream",
     "text": [
      "Rows: 3, Columns: 5\n"
     ]
    },
    {
     "data": {
      "text/html": [
       "<div>\n",
       "<style scoped>\n",
       "    .dataframe tbody tr th:only-of-type {\n",
       "        vertical-align: middle;\n",
       "    }\n",
       "\n",
       "    .dataframe tbody tr th {\n",
       "        vertical-align: top;\n",
       "    }\n",
       "\n",
       "    .dataframe thead th {\n",
       "        text-align: right;\n",
       "    }\n",
       "</style>\n",
       "<table border=\"1\" class=\"dataframe\">\n",
       "  <thead>\n",
       "    <tr style=\"text-align: right;\">\n",
       "      <th></th>\n",
       "      <th>ID</th>\n",
       "      <th>Name</th>\n",
       "      <th>Age</th>\n",
       "      <th>Department</th>\n",
       "      <th>Salary</th>\n",
       "    </tr>\n",
       "  </thead>\n",
       "  <tbody>\n",
       "    <tr>\n",
       "      <th>0</th>\n",
       "      <td>1</td>\n",
       "      <td>Alice</td>\n",
       "      <td>25</td>\n",
       "      <td>HR</td>\n",
       "      <td>50000</td>\n",
       "    </tr>\n",
       "    <tr>\n",
       "      <th>1</th>\n",
       "      <td>2</td>\n",
       "      <td>Bob</td>\n",
       "      <td>30</td>\n",
       "      <td>NaN</td>\n",
       "      <td>65000</td>\n",
       "    </tr>\n",
       "    <tr>\n",
       "      <th>2</th>\n",
       "      <td>3</td>\n",
       "      <td>Aisha</td>\n",
       "      <td>28</td>\n",
       "      <td>IT</td>\n",
       "      <td>80000</td>\n",
       "    </tr>\n",
       "  </tbody>\n",
       "</table>\n",
       "</div>"
      ],
      "text/plain": [
       "   ID   Name  Age Department  Salary\n",
       "0   1  Alice   25         HR   50000\n",
       "1   2    Bob   30        NaN   65000\n",
       "2   3  Aisha   28         IT   80000"
      ]
     },
     "execution_count": 15,
     "metadata": {},
     "output_type": "execute_result"
    }
   ],
   "source": [
    "### From list of Dictionaries\n",
    "data = [\n",
    "    {'ID': 1, 'Name': 'Alice', 'Age': 25, 'Department':'HR', 'Salary': 50000},\n",
    "    {'ID': 2, 'Name': 'Bob', 'Age': 30, 'Department': np.nan, 'Salary': 65000},\n",
    "    {'ID': 3, 'Name': 'Aisha', 'Age': 28, 'Department': 'IT', 'Salary': 80000},\n",
    "]\n",
    "df = pd.DataFrame(data)\n",
    "rows, cols = df.shape\n",
    "print(f\"Rows: {rows}, Columns: {cols}\")\n",
    "df"
   ]
  },
  {
   "cell_type": "markdown",
   "id": "e9a1330b-ca8b-4edd-b43f-0b99605e6219",
   "metadata": {},
   "source": [
    "### Reading from xlsx"
   ]
  },
  {
   "cell_type": "code",
   "execution_count": 16,
   "id": "c3e707af-4eb1-4b15-836a-2502df7eaa9f",
   "metadata": {},
   "outputs": [],
   "source": [
    "# !pip install openpyxl"
   ]
  },
  {
   "cell_type": "code",
   "execution_count": 17,
   "id": "482899a9-3c05-43f3-a818-94997b27fd68",
   "metadata": {},
   "outputs": [
    {
     "name": "stdout",
     "output_type": "stream",
     "text": [
      "(4362, 5)\n"
     ]
    },
    {
     "data": {
      "text/html": [
       "<div>\n",
       "<style scoped>\n",
       "    .dataframe tbody tr th:only-of-type {\n",
       "        vertical-align: middle;\n",
       "    }\n",
       "\n",
       "    .dataframe tbody tr th {\n",
       "        vertical-align: top;\n",
       "    }\n",
       "\n",
       "    .dataframe thead th {\n",
       "        text-align: right;\n",
       "    }\n",
       "</style>\n",
       "<table border=\"1\" class=\"dataframe\">\n",
       "  <thead>\n",
       "    <tr style=\"text-align: right;\">\n",
       "      <th></th>\n",
       "      <th>Category</th>\n",
       "      <th>Price</th>\n",
       "      <th>Rating</th>\n",
       "      <th>Stock</th>\n",
       "      <th>Discount</th>\n",
       "    </tr>\n",
       "  </thead>\n",
       "  <tbody>\n",
       "    <tr>\n",
       "      <th>508</th>\n",
       "      <td>NaN</td>\n",
       "      <td>NaN</td>\n",
       "      <td>1.802829</td>\n",
       "      <td>Out of Stock</td>\n",
       "      <td>19.0</td>\n",
       "    </tr>\n",
       "    <tr>\n",
       "      <th>3279</th>\n",
       "      <td>B</td>\n",
       "      <td>6369.0</td>\n",
       "      <td>1.632623</td>\n",
       "      <td>NaN</td>\n",
       "      <td>45.0</td>\n",
       "    </tr>\n",
       "  </tbody>\n",
       "</table>\n",
       "</div>"
      ],
      "text/plain": [
       "     Category   Price    Rating         Stock  Discount\n",
       "508       NaN     NaN  1.802829  Out of Stock      19.0\n",
       "3279        B  6369.0  1.632623           NaN      45.0"
      ]
     },
     "execution_count": 17,
     "metadata": {},
     "output_type": "execute_result"
    }
   ],
   "source": [
    "# Link to the data used for tutorial from Kaggle - https://www.kaggle.com/datasets/himelsarder/retail-product-dataset-with-missing-values/data\n",
    "df = pd.read_excel(\"datasets/synthetic_dataset.xlsx\", sheet_name=\"synthetic_dataset\")\n",
    "print(df.shape)\n",
    "df.sample(2) # Random 2 rows"
   ]
  },
  {
   "cell_type": "code",
   "execution_count": 18,
   "id": "bb92b380-b149-43c0-8358-d01aa52e92d5",
   "metadata": {},
   "outputs": [],
   "source": [
    "df = pd.read_excel(\"datasets/synthetic_dataset_without_column_names.xlsx\", header=None, names=['Category', 'Price', 'Rating', 'Stock', 'Discount'], na_values={'Discount':[-1], 'Price': [-1], 'Category': 'unknown'})"
   ]
  },
  {
   "cell_type": "code",
   "execution_count": 19,
   "id": "d28e7e9f-ba06-40ef-81f3-74952955838b",
   "metadata": {},
   "outputs": [
    {
     "data": {
      "text/html": [
       "<div>\n",
       "<style scoped>\n",
       "    .dataframe tbody tr th:only-of-type {\n",
       "        vertical-align: middle;\n",
       "    }\n",
       "\n",
       "    .dataframe tbody tr th {\n",
       "        vertical-align: top;\n",
       "    }\n",
       "\n",
       "    .dataframe thead th {\n",
       "        text-align: right;\n",
       "    }\n",
       "</style>\n",
       "<table border=\"1\" class=\"dataframe\">\n",
       "  <thead>\n",
       "    <tr style=\"text-align: right;\">\n",
       "      <th></th>\n",
       "      <th>Category</th>\n",
       "      <th>Price</th>\n",
       "      <th>Rating</th>\n",
       "      <th>Stock</th>\n",
       "      <th>Discount</th>\n",
       "    </tr>\n",
       "  </thead>\n",
       "  <tbody>\n",
       "    <tr>\n",
       "      <th>0</th>\n",
       "      <td>NaN</td>\n",
       "      <td>5548</td>\n",
       "      <td>1.870322</td>\n",
       "      <td>NaN</td>\n",
       "      <td>NaN</td>\n",
       "    </tr>\n",
       "    <tr>\n",
       "      <th>1</th>\n",
       "      <td>NaN</td>\n",
       "      <td>3045</td>\n",
       "      <td>4.757798</td>\n",
       "      <td>NaN</td>\n",
       "      <td>38.0</td>\n",
       "    </tr>\n",
       "  </tbody>\n",
       "</table>\n",
       "</div>"
      ],
      "text/plain": [
       "  Category  Price    Rating Stock  Discount\n",
       "0      NaN   5548  1.870322   NaN       NaN\n",
       "1      NaN   3045  4.757798   NaN      38.0"
      ]
     },
     "execution_count": 19,
     "metadata": {},
     "output_type": "execute_result"
    }
   ],
   "source": [
    "df.head(2)"
   ]
  },
  {
   "cell_type": "code",
   "execution_count": 20,
   "id": "e42ce628-76e4-4e89-a9b5-b801479c61b8",
   "metadata": {},
   "outputs": [
    {
     "data": {
      "text/html": [
       "<div>\n",
       "<style scoped>\n",
       "    .dataframe tbody tr th:only-of-type {\n",
       "        vertical-align: middle;\n",
       "    }\n",
       "\n",
       "    .dataframe tbody tr th {\n",
       "        vertical-align: top;\n",
       "    }\n",
       "\n",
       "    .dataframe thead th {\n",
       "        text-align: right;\n",
       "    }\n",
       "</style>\n",
       "<table border=\"1\" class=\"dataframe\">\n",
       "  <thead>\n",
       "    <tr style=\"text-align: right;\">\n",
       "      <th></th>\n",
       "      <th>Category</th>\n",
       "      <th>Price</th>\n",
       "      <th>Rating</th>\n",
       "      <th>Stock</th>\n",
       "      <th>Discount</th>\n",
       "    </tr>\n",
       "  </thead>\n",
       "  <tbody>\n",
       "    <tr>\n",
       "      <th>0</th>\n",
       "      <td>NaN</td>\n",
       "      <td>None</td>\n",
       "      <td>1.870322</td>\n",
       "      <td>NaN</td>\n",
       "      <td>NaN</td>\n",
       "    </tr>\n",
       "    <tr>\n",
       "      <th>1</th>\n",
       "      <td>NaN</td>\n",
       "      <td>None</td>\n",
       "      <td>4.757798</td>\n",
       "      <td>NaN</td>\n",
       "      <td>NaN</td>\n",
       "    </tr>\n",
       "  </tbody>\n",
       "</table>\n",
       "</div>"
      ],
      "text/plain": [
       "   Category Price    Rating Stock  Discount\n",
       "0       NaN  None  1.870322   NaN       NaN\n",
       "1       NaN  None  4.757798   NaN       NaN"
      ]
     },
     "execution_count": 20,
     "metadata": {},
     "output_type": "execute_result"
    }
   ],
   "source": [
    "# Alternatively use converters\n",
    "def fix_unknown_or_negative(cell):\n",
    "    if cell == 'unknown' or cell == -1:\n",
    "        return np.nan\n",
    "df_excel = pd.read_excel(\"datasets/synthetic_dataset_without_column_names.xlsx\", header=None, names=['Category', 'Price', 'Rating', 'Stock', 'Discount'], converters={'Discount':fix_unknown_or_negative, 'Price': fix_unknown_or_negative, 'Category': fix_unknown_or_negative})\n",
    "df_excel.head(2)"
   ]
  },
  {
   "cell_type": "markdown",
   "id": "77c48b1c-e5d6-496a-b263-8689b56b3392",
   "metadata": {},
   "source": [
    "### Reading from Parquet"
   ]
  },
  {
   "cell_type": "code",
   "execution_count": 21,
   "id": "13935f0a-3352-45a4-be44-1c56d6c72164",
   "metadata": {},
   "outputs": [],
   "source": [
    "# !pip install pyarrow"
   ]
  },
  {
   "cell_type": "code",
   "execution_count": 22,
   "id": "dd4b1653-7af7-4b9a-9768-b312834482f0",
   "metadata": {},
   "outputs": [],
   "source": [
    "# !pip install fastparquet"
   ]
  },
  {
   "cell_type": "code",
   "execution_count": 23,
   "id": "e6b17cba-0178-4a1f-995e-ce3d2b6f6f55",
   "metadata": {},
   "outputs": [
    {
     "name": "stdout",
     "output_type": "stream",
     "text": [
      "(4362, 5)\n"
     ]
    },
    {
     "data": {
      "text/html": [
       "<div>\n",
       "<style scoped>\n",
       "    .dataframe tbody tr th:only-of-type {\n",
       "        vertical-align: middle;\n",
       "    }\n",
       "\n",
       "    .dataframe tbody tr th {\n",
       "        vertical-align: top;\n",
       "    }\n",
       "\n",
       "    .dataframe thead th {\n",
       "        text-align: right;\n",
       "    }\n",
       "</style>\n",
       "<table border=\"1\" class=\"dataframe\">\n",
       "  <thead>\n",
       "    <tr style=\"text-align: right;\">\n",
       "      <th></th>\n",
       "      <th>Category</th>\n",
       "      <th>Price</th>\n",
       "      <th>Rating</th>\n",
       "      <th>Stock</th>\n",
       "      <th>Discount</th>\n",
       "    </tr>\n",
       "  </thead>\n",
       "  <tbody>\n",
       "    <tr>\n",
       "      <th>4360</th>\n",
       "      <td>D</td>\n",
       "      <td>2999.0</td>\n",
       "      <td>4.425995</td>\n",
       "      <td>None</td>\n",
       "      <td>40.0</td>\n",
       "    </tr>\n",
       "    <tr>\n",
       "      <th>4361</th>\n",
       "      <td>None</td>\n",
       "      <td>NaN</td>\n",
       "      <td>2.184471</td>\n",
       "      <td>None</td>\n",
       "      <td>0.0</td>\n",
       "    </tr>\n",
       "  </tbody>\n",
       "</table>\n",
       "</div>"
      ],
      "text/plain": [
       "     Category   Price    Rating Stock  Discount\n",
       "4360        D  2999.0  4.425995  None      40.0\n",
       "4361     None     NaN  2.184471  None       0.0"
      ]
     },
     "execution_count": 23,
     "metadata": {},
     "output_type": "execute_result"
    }
   ],
   "source": [
    "df = pd.read_parquet(\"datasets/synthetic_dataset.parquet\")\n",
    "print(df.shape)\n",
    "df.tail(2) # last 2 rows"
   ]
  },
  {
   "cell_type": "markdown",
   "id": "9d8451e8-5536-4c55-9cc1-8b5199d6a86d",
   "metadata": {},
   "source": [
    "### Reading from CSV"
   ]
  },
  {
   "cell_type": "code",
   "execution_count": 24,
   "id": "af2113e2-7f08-4645-8e7a-600dd45cec33",
   "metadata": {},
   "outputs": [
    {
     "data": {
      "text/html": [
       "<div>\n",
       "<style scoped>\n",
       "    .dataframe tbody tr th:only-of-type {\n",
       "        vertical-align: middle;\n",
       "    }\n",
       "\n",
       "    .dataframe tbody tr th {\n",
       "        vertical-align: top;\n",
       "    }\n",
       "\n",
       "    .dataframe thead th {\n",
       "        text-align: right;\n",
       "    }\n",
       "</style>\n",
       "<table border=\"1\" class=\"dataframe\">\n",
       "  <thead>\n",
       "    <tr style=\"text-align: right;\">\n",
       "      <th></th>\n",
       "      <th>Category</th>\n",
       "      <th>Price</th>\n",
       "      <th>Rating</th>\n",
       "      <th>Stock</th>\n",
       "      <th>Discount</th>\n",
       "    </tr>\n",
       "  </thead>\n",
       "  <tbody>\n",
       "    <tr>\n",
       "      <th>0</th>\n",
       "      <td>NaN</td>\n",
       "      <td>5548</td>\n",
       "      <td>1.870322</td>\n",
       "      <td>NaN</td>\n",
       "      <td>0</td>\n",
       "    </tr>\n",
       "    <tr>\n",
       "      <th>1</th>\n",
       "      <td>NaN</td>\n",
       "      <td>3045</td>\n",
       "      <td>4.757798</td>\n",
       "      <td>NaN</td>\n",
       "      <td>38</td>\n",
       "    </tr>\n",
       "  </tbody>\n",
       "</table>\n",
       "</div>"
      ],
      "text/plain": [
       "   Category  Price    Rating  Stock  Discount\n",
       "0       NaN   5548  1.870322    NaN         0\n",
       "1       NaN   3045  4.757798    NaN        38"
      ]
     },
     "execution_count": 24,
     "metadata": {},
     "output_type": "execute_result"
    }
   ],
   "source": [
    "df = pd.read_csv(\"datasets/Synthetic_dataset_multiple_headers.csv\", header=2, skiprows=0, nrows=2) # consider the top most row as header, we donot skip any rows\n",
    "# if we have two header and we want to consider the 2nd row as column names set header=1 (consider 2nd row and not 0th and 1st row for column names)\n",
    "# or skiprows=2 (skip top 2 rows, and start from the next one). We can skip any no. of rows\n",
    "# read only 2 rows\n",
    "df"
   ]
  },
  {
   "cell_type": "code",
   "execution_count": 25,
   "id": "27ee1e0a-2e5e-4595-8677-33431ad39d2f",
   "metadata": {},
   "outputs": [
    {
     "name": "stdout",
     "output_type": "stream",
     "text": [
      "Shape: (7, 5)\n"
     ]
    },
    {
     "data": {
      "text/html": [
       "<div>\n",
       "<style scoped>\n",
       "    .dataframe tbody tr th:only-of-type {\n",
       "        vertical-align: middle;\n",
       "    }\n",
       "\n",
       "    .dataframe tbody tr th {\n",
       "        vertical-align: top;\n",
       "    }\n",
       "\n",
       "    .dataframe thead th {\n",
       "        text-align: right;\n",
       "    }\n",
       "</style>\n",
       "<table border=\"1\" class=\"dataframe\">\n",
       "  <thead>\n",
       "    <tr style=\"text-align: right;\">\n",
       "      <th></th>\n",
       "      <th>Category</th>\n",
       "      <th>Price</th>\n",
       "      <th>Rating</th>\n",
       "      <th>Stock</th>\n",
       "      <th>Discount</th>\n",
       "    </tr>\n",
       "  </thead>\n",
       "  <tbody>\n",
       "    <tr>\n",
       "      <th>0</th>\n",
       "      <td>NaN</td>\n",
       "      <td>5548</td>\n",
       "      <td>1.870322</td>\n",
       "      <td>NaN</td>\n",
       "      <td>NaN</td>\n",
       "    </tr>\n",
       "    <tr>\n",
       "      <th>1</th>\n",
       "      <td>NaN</td>\n",
       "      <td>3045</td>\n",
       "      <td>4.757798</td>\n",
       "      <td>NaN</td>\n",
       "      <td>38.0</td>\n",
       "    </tr>\n",
       "    <tr>\n",
       "      <th>2</th>\n",
       "      <td>NaN</td>\n",
       "      <td>4004</td>\n",
       "      <td>NaN</td>\n",
       "      <td>In Stock</td>\n",
       "      <td>NaN</td>\n",
       "    </tr>\n",
       "    <tr>\n",
       "      <th>3</th>\n",
       "      <td>NaN</td>\n",
       "      <td>4808</td>\n",
       "      <td>1.492085</td>\n",
       "      <td>NaN</td>\n",
       "      <td>33.0</td>\n",
       "    </tr>\n",
       "    <tr>\n",
       "      <th>4</th>\n",
       "      <td>NaN</td>\n",
       "      <td>1817</td>\n",
       "      <td>NaN</td>\n",
       "      <td>Out of Stock</td>\n",
       "      <td>23.0</td>\n",
       "    </tr>\n",
       "  </tbody>\n",
       "</table>\n",
       "</div>"
      ],
      "text/plain": [
       "  Category  Price    Rating         Stock  Discount\n",
       "0      NaN   5548  1.870322           NaN       NaN\n",
       "1      NaN   3045  4.757798           NaN      38.0\n",
       "2      NaN   4004       NaN      In Stock       NaN\n",
       "3      NaN   4808  1.492085           NaN      33.0\n",
       "4      NaN   1817       NaN  Out of Stock      23.0"
      ]
     },
     "execution_count": 25,
     "metadata": {},
     "output_type": "execute_result"
    }
   ],
   "source": [
    "df = pd.read_csv(\"datasets/synthetic_dataset_without_column_names.csv\", header=None, names=['Category', 'Price', 'Rating', 'Stock', 'Discount'], na_values={'Discount':[-1], 'Price': [-1]})\n",
    "# if we our data has specific encoding ex: encoding='latin1', 'utf-8' add it\n",
    "# if we have na_values in a particular column written differently like na_values={'Discount':[-1]} i.e. considering '-1' as NA value for Discount. \n",
    "# we cannot have Discount < 0\n",
    "print(f\"Shape: {df.shape}\")\n",
    "# Last 5 rows: df.tail()\n",
    "# Random 5 rows: df.sample(5)\n",
    "# Selected indexes: df[5:10]\n",
    "# First 5 rows\n",
    "df.head()"
   ]
  },
  {
   "cell_type": "markdown",
   "id": "0ef896c6-0fd5-4d96-8955-8e171d04d883",
   "metadata": {},
   "source": [
    "### Understand the data"
   ]
  },
  {
   "cell_type": "markdown",
   "id": "a0560556-63c1-4326-a65b-c4735fed51f2",
   "metadata": {},
   "source": [
    "The dataset includes:\n",
    "\n",
    "Category (Categorical): Product category (A, B, C, D)\n",
    "\n",
    "Price (Numerical): Randomized product prices\n",
    "\n",
    "Rating (Numerical): Ratings between 1 to 5\n",
    "\n",
    "Stock (Categorical): Availability status (In Stock, Out of Stock)\n",
    "\n",
    "Discount (Numerical): Discount percentage"
   ]
  },
  {
   "cell_type": "code",
   "execution_count": 29,
   "id": "6f13dc7f-dbb6-44d6-ade1-e21416a9b609",
   "metadata": {},
   "outputs": [
    {
     "name": "stdout",
     "output_type": "stream",
     "text": [
      "(4362, 5)\n"
     ]
    },
    {
     "data": {
      "text/html": [
       "<div>\n",
       "<style scoped>\n",
       "    .dataframe tbody tr th:only-of-type {\n",
       "        vertical-align: middle;\n",
       "    }\n",
       "\n",
       "    .dataframe tbody tr th {\n",
       "        vertical-align: top;\n",
       "    }\n",
       "\n",
       "    .dataframe thead th {\n",
       "        text-align: right;\n",
       "    }\n",
       "</style>\n",
       "<table border=\"1\" class=\"dataframe\">\n",
       "  <thead>\n",
       "    <tr style=\"text-align: right;\">\n",
       "      <th></th>\n",
       "      <th>Category</th>\n",
       "      <th>Price</th>\n",
       "      <th>Rating</th>\n",
       "      <th>Stock</th>\n",
       "      <th>Discount</th>\n",
       "    </tr>\n",
       "  </thead>\n",
       "  <tbody>\n",
       "    <tr>\n",
       "      <th>0</th>\n",
       "      <td>NaN</td>\n",
       "      <td>5548.0</td>\n",
       "      <td>1.870322</td>\n",
       "      <td>NaN</td>\n",
       "      <td>0.0</td>\n",
       "    </tr>\n",
       "    <tr>\n",
       "      <th>1</th>\n",
       "      <td>NaN</td>\n",
       "      <td>3045.0</td>\n",
       "      <td>4.757798</td>\n",
       "      <td>NaN</td>\n",
       "      <td>38.0</td>\n",
       "    </tr>\n",
       "    <tr>\n",
       "      <th>2</th>\n",
       "      <td>NaN</td>\n",
       "      <td>4004.0</td>\n",
       "      <td>NaN</td>\n",
       "      <td>In Stock</td>\n",
       "      <td>0.0</td>\n",
       "    </tr>\n",
       "    <tr>\n",
       "      <th>3</th>\n",
       "      <td>NaN</td>\n",
       "      <td>4808.0</td>\n",
       "      <td>1.492085</td>\n",
       "      <td>NaN</td>\n",
       "      <td>33.0</td>\n",
       "    </tr>\n",
       "    <tr>\n",
       "      <th>4</th>\n",
       "      <td>NaN</td>\n",
       "      <td>1817.0</td>\n",
       "      <td>NaN</td>\n",
       "      <td>Out of Stock</td>\n",
       "      <td>23.0</td>\n",
       "    </tr>\n",
       "  </tbody>\n",
       "</table>\n",
       "</div>"
      ],
      "text/plain": [
       "  Category   Price    Rating         Stock  Discount\n",
       "0      NaN  5548.0  1.870322           NaN       0.0\n",
       "1      NaN  3045.0  4.757798           NaN      38.0\n",
       "2      NaN  4004.0       NaN      In Stock       0.0\n",
       "3      NaN  4808.0  1.492085           NaN      33.0\n",
       "4      NaN  1817.0       NaN  Out of Stock      23.0"
      ]
     },
     "execution_count": 29,
     "metadata": {},
     "output_type": "execute_result"
    }
   ],
   "source": [
    "df = pd.read_csv(\"datasets/synthetic_dataset.csv\")\n",
    "print(df.shape)\n",
    "df.head()"
   ]
  },
  {
   "cell_type": "markdown",
   "id": "170c3c2d-34fc-42c5-8fb8-6c6588fca372",
   "metadata": {},
   "source": [
    "# Data wrangling/ Data mungling -  Process of cleaning messy data"
   ]
  },
  {
   "cell_type": "code",
   "execution_count": 27,
   "id": "62391c24-4ccb-4793-ba4c-51815f388451",
   "metadata": {},
   "outputs": [
    {
     "data": {
      "text/plain": [
       "Category    2748\n",
       "Price        174\n",
       "Rating      2050\n",
       "Stock       1352\n",
       "Discount     392\n",
       "dtype: int64"
      ]
     },
     "execution_count": 27,
     "metadata": {},
     "output_type": "execute_result"
    }
   ],
   "source": [
    "df.isna().sum()"
   ]
  },
  {
   "cell_type": "markdown",
   "id": "d4076f15-b0cf-460d-ae9b-9c231e380836",
   "metadata": {},
   "source": [
    "##### Drop NA"
   ]
  },
  {
   "cell_type": "code",
   "execution_count": 37,
   "id": "809158af-4934-4e86-a213-348ba2ba4b4a",
   "metadata": {},
   "outputs": [
    {
     "name": "stdout",
     "output_type": "stream",
     "text": [
      "Original: (4362, 5)\n",
      "All empty row: (4359, 5)\n",
      "Keep the row with atleast 1 non na value: (4359, 5)\n",
      "Keep the row with atleast 2 non na value: (4306, 5)\n",
      "Any empty row: (540, 5)\n",
      "Price/Discount missing: (3809, 5)\n"
     ]
    }
   ],
   "source": [
    "print(f\"Original: {df.shape}\")\n",
    "df_cleaned = df.dropna(how='all') # when all values in a row are missing\n",
    "print(f\"All empty row: {df_cleaned.shape}\")\n",
    "# or\n",
    "df_cleaned = df.dropna(thresh=1) # Keep the row with atleast 1 non na value\n",
    "print(f\"Keep the row with atleast 1 non na value: {df_cleaned.shape}\")\n",
    "\n",
    "df_cleaned = df.dropna(thresh=2) # Keep the row with atleast 2 non na value\n",
    "print(f\"Keep the row with atleast 2 non na value: {df_cleaned.shape}\")\n",
    "\n",
    "df_cleaned = df.dropna(how='any') # Drop if any NaN (default)\n",
    "print(f\"Any empty row: {df_cleaned.shape}\")\n",
    "subset=['col1', 'col2']\t\n",
    "df_cleaned = df.dropna(subset=['Price', 'Discount']) # Only consider these columns for NaN checking\n",
    "print(f\"Price/Discount missing: {df_cleaned.shape}\")"
   ]
  },
  {
   "cell_type": "markdown",
   "id": "5c9c3c07-e6cf-455e-a82a-c9040f60ec92",
   "metadata": {},
   "source": [
    "##### Fill NA"
   ]
  },
  {
   "cell_type": "code",
   "execution_count": 39,
   "id": "bbebbb72-ed61-47c3-8d53-3a5bc6373062",
   "metadata": {},
   "outputs": [
    {
     "data": {
      "text/html": [
       "<div>\n",
       "<style scoped>\n",
       "    .dataframe tbody tr th:only-of-type {\n",
       "        vertical-align: middle;\n",
       "    }\n",
       "\n",
       "    .dataframe tbody tr th {\n",
       "        vertical-align: top;\n",
       "    }\n",
       "\n",
       "    .dataframe thead th {\n",
       "        text-align: right;\n",
       "    }\n",
       "</style>\n",
       "<table border=\"1\" class=\"dataframe\">\n",
       "  <thead>\n",
       "    <tr style=\"text-align: right;\">\n",
       "      <th></th>\n",
       "      <th>Category</th>\n",
       "      <th>Price</th>\n",
       "      <th>Rating</th>\n",
       "      <th>Stock</th>\n",
       "      <th>Discount</th>\n",
       "    </tr>\n",
       "  </thead>\n",
       "  <tbody>\n",
       "    <tr>\n",
       "      <th>2608</th>\n",
       "      <td>A</td>\n",
       "      <td>6649.0</td>\n",
       "      <td>NaN</td>\n",
       "      <td>Out of Stock</td>\n",
       "      <td>9.0</td>\n",
       "    </tr>\n",
       "    <tr>\n",
       "      <th>2829</th>\n",
       "      <td>A</td>\n",
       "      <td>286.0</td>\n",
       "      <td>NaN</td>\n",
       "      <td>In Stock</td>\n",
       "      <td>22.0</td>\n",
       "    </tr>\n",
       "    <tr>\n",
       "      <th>149</th>\n",
       "      <td>A</td>\n",
       "      <td>9825.0</td>\n",
       "      <td>NaN</td>\n",
       "      <td>Out of Stock</td>\n",
       "      <td>22.0</td>\n",
       "    </tr>\n",
       "    <tr>\n",
       "      <th>2823</th>\n",
       "      <td>A</td>\n",
       "      <td>6129.0</td>\n",
       "      <td>3.733947</td>\n",
       "      <td>Out of Stock</td>\n",
       "      <td>7.0</td>\n",
       "    </tr>\n",
       "    <tr>\n",
       "      <th>2525</th>\n",
       "      <td>A</td>\n",
       "      <td>5528.0</td>\n",
       "      <td>NaN</td>\n",
       "      <td>NaN</td>\n",
       "      <td>35.0</td>\n",
       "    </tr>\n",
       "    <tr>\n",
       "      <th>...</th>\n",
       "      <td>...</td>\n",
       "      <td>...</td>\n",
       "      <td>...</td>\n",
       "      <td>...</td>\n",
       "      <td>...</td>\n",
       "    </tr>\n",
       "    <tr>\n",
       "      <th>4355</th>\n",
       "      <td>NaN</td>\n",
       "      <td>NaN</td>\n",
       "      <td>NaN</td>\n",
       "      <td>In Stock</td>\n",
       "      <td>46.0</td>\n",
       "    </tr>\n",
       "    <tr>\n",
       "      <th>4356</th>\n",
       "      <td>NaN</td>\n",
       "      <td>NaN</td>\n",
       "      <td>NaN</td>\n",
       "      <td>Out of Stock</td>\n",
       "      <td>21.0</td>\n",
       "    </tr>\n",
       "    <tr>\n",
       "      <th>4357</th>\n",
       "      <td>NaN</td>\n",
       "      <td>4436.0</td>\n",
       "      <td>4.728335</td>\n",
       "      <td>NaN</td>\n",
       "      <td>49.0</td>\n",
       "    </tr>\n",
       "    <tr>\n",
       "      <th>4359</th>\n",
       "      <td>NaN</td>\n",
       "      <td>3283.0</td>\n",
       "      <td>NaN</td>\n",
       "      <td>Out of Stock</td>\n",
       "      <td>9.0</td>\n",
       "    </tr>\n",
       "    <tr>\n",
       "      <th>4361</th>\n",
       "      <td>NaN</td>\n",
       "      <td>NaN</td>\n",
       "      <td>2.184471</td>\n",
       "      <td>NaN</td>\n",
       "      <td>0.0</td>\n",
       "    </tr>\n",
       "  </tbody>\n",
       "</table>\n",
       "<p>4362 rows × 5 columns</p>\n",
       "</div>"
      ],
      "text/plain": [
       "     Category   Price    Rating         Stock  Discount\n",
       "2608        A  6649.0       NaN  Out of Stock       9.0\n",
       "2829        A   286.0       NaN      In Stock      22.0\n",
       "149         A  9825.0       NaN  Out of Stock      22.0\n",
       "2823        A  6129.0  3.733947  Out of Stock       7.0\n",
       "2525        A  5528.0       NaN           NaN      35.0\n",
       "...       ...     ...       ...           ...       ...\n",
       "4355      NaN     NaN       NaN      In Stock      46.0\n",
       "4356      NaN     NaN       NaN  Out of Stock      21.0\n",
       "4357      NaN  4436.0  4.728335           NaN      49.0\n",
       "4359      NaN  3283.0       NaN  Out of Stock       9.0\n",
       "4361      NaN     NaN  2.184471           NaN       0.0\n",
       "\n",
       "[4362 rows x 5 columns]"
      ]
     },
     "execution_count": 39,
     "metadata": {},
     "output_type": "execute_result"
    }
   ],
   "source": [
    "df = df.sort_values(by=[\"Category\"])\n",
    "df = df.reindex()\n",
    "df"
   ]
  },
  {
   "cell_type": "code",
   "execution_count": null,
   "id": "85c90e8b-c9bd-4d33-ab01-9bc4815e2385",
   "metadata": {},
   "outputs": [],
   "source": [
    "print(f\"Original: {df.shape}\")\n",
    "\n",
    "df_cleaned = df.dropna(how='all') # when all values in a row are missing\n",
    "print(f\"All empty row: {df_cleaned.shape}\")\n",
    "# or\n",
    "df_cleaned = df.dropna(thresh=1) # Keep the row with atleast 1 non na value\n",
    "print(f\"Keep the row with atleast 1 non na value: {df_cleaned.shape}\")\n",
    "\n",
    "df_cleaned = df.dropna(thresh=2) # Keep the row with atleast 2 non na value\n",
    "print(f\"Keep the row with atleast 2 non na value: {df_cleaned.shape}\")\n",
    "\n",
    "df_cleaned = df.dropna(how='any') # Drop if any NaN (default)\n",
    "print(f\"Any empty row: {df_cleaned.shape}\")\n",
    "subset=['col1', 'col2']\t\n",
    "df_cleaned = df.dropna(subset=['Price', 'Discount']) # Only consider these columns for NaN checking\n",
    "print(f\"Price/Discount missing: {df_cleaned.shape}\")"
   ]
  },
  {
   "cell_type": "code",
   "execution_count": 27,
   "id": "1ef0a370-518f-4c0b-bc87-0658c1f942ba",
   "metadata": {},
   "outputs": [
    {
     "name": "stdout",
     "output_type": "stream",
     "text": [
      "Maximum Price: 9999.0\n",
      "Average Rating: 3.0382925191086185\n",
      "Minimum Discount: 0.0\n",
      "Price deviation: 2839.984813424091\n"
     ]
    }
   ],
   "source": [
    "print(f\"Maximum Price: {df['Price'].max()}\") \n",
    "print(f\"Average Rating: {df['Rating'].mean()}\") \n",
    "print(f\"Minimum Discount: {df['Discount'].min()}\") \n",
    "print(f\"Price deviation: {df['Price'].std()}\")"
   ]
  },
  {
   "cell_type": "code",
   "execution_count": 28,
   "id": "d5057ea6-7195-4698-9c26-10cb0a3585a9",
   "metadata": {},
   "outputs": [
    {
     "data": {
      "text/html": [
       "<div>\n",
       "<style scoped>\n",
       "    .dataframe tbody tr th:only-of-type {\n",
       "        vertical-align: middle;\n",
       "    }\n",
       "\n",
       "    .dataframe tbody tr th {\n",
       "        vertical-align: top;\n",
       "    }\n",
       "\n",
       "    .dataframe thead th {\n",
       "        text-align: right;\n",
       "    }\n",
       "</style>\n",
       "<table border=\"1\" class=\"dataframe\">\n",
       "  <thead>\n",
       "    <tr style=\"text-align: right;\">\n",
       "      <th></th>\n",
       "      <th>Price</th>\n",
       "      <th>Rating</th>\n",
       "      <th>Discount</th>\n",
       "    </tr>\n",
       "  </thead>\n",
       "  <tbody>\n",
       "    <tr>\n",
       "      <th>count</th>\n",
       "      <td>4188.000000</td>\n",
       "      <td>2312.000000</td>\n",
       "      <td>3970.000000</td>\n",
       "    </tr>\n",
       "    <tr>\n",
       "      <th>mean</th>\n",
       "      <td>5016.970630</td>\n",
       "      <td>3.038293</td>\n",
       "      <td>24.516625</td>\n",
       "    </tr>\n",
       "    <tr>\n",
       "      <th>std</th>\n",
       "      <td>2839.984813</td>\n",
       "      <td>1.143074</td>\n",
       "      <td>14.347164</td>\n",
       "    </tr>\n",
       "    <tr>\n",
       "      <th>min</th>\n",
       "      <td>102.000000</td>\n",
       "      <td>1.000366</td>\n",
       "      <td>0.000000</td>\n",
       "    </tr>\n",
       "    <tr>\n",
       "      <th>25%</th>\n",
       "      <td>2628.250000</td>\n",
       "      <td>2.069490</td>\n",
       "      <td>12.000000</td>\n",
       "    </tr>\n",
       "    <tr>\n",
       "      <th>50%</th>\n",
       "      <td>4996.500000</td>\n",
       "      <td>3.082060</td>\n",
       "      <td>25.000000</td>\n",
       "    </tr>\n",
       "    <tr>\n",
       "      <th>75%</th>\n",
       "      <td>7418.000000</td>\n",
       "      <td>4.008620</td>\n",
       "      <td>37.000000</td>\n",
       "    </tr>\n",
       "    <tr>\n",
       "      <th>max</th>\n",
       "      <td>9999.000000</td>\n",
       "      <td>4.997818</td>\n",
       "      <td>49.000000</td>\n",
       "    </tr>\n",
       "  </tbody>\n",
       "</table>\n",
       "</div>"
      ],
      "text/plain": [
       "             Price       Rating     Discount\n",
       "count  4188.000000  2312.000000  3970.000000\n",
       "mean   5016.970630     3.038293    24.516625\n",
       "std    2839.984813     1.143074    14.347164\n",
       "min     102.000000     1.000366     0.000000\n",
       "25%    2628.250000     2.069490    12.000000\n",
       "50%    4996.500000     3.082060    25.000000\n",
       "75%    7418.000000     4.008620    37.000000\n",
       "max    9999.000000     4.997818    49.000000"
      ]
     },
     "execution_count": 28,
     "metadata": {},
     "output_type": "execute_result"
    }
   ],
   "source": [
    "df.describe() # for mathematical columns"
   ]
  },
  {
   "cell_type": "markdown",
   "id": "8667f7d9-b3ef-4556-8df3-8952b1a7e2d9",
   "metadata": {},
   "source": [
    "# Saving final frame"
   ]
  },
  {
   "cell_type": "code",
   "execution_count": 23,
   "id": "fdd474d8-f45f-43c6-b3a4-bed5d251d0d0",
   "metadata": {},
   "outputs": [],
   "source": [
    "# To parquet\n",
    "# df.to_parquet(\"datasets/final_synthetic_dataset.parquet\")\n",
    "# To excel\n",
    "df.to_excel(\"datasets/final_synthetic_dataset.xlsx\", sheet_name='retail_prices', index=False, startrow=3, startcol=5)\n",
    "# Write different datasets to multiple sheets\n",
    "with pd.ExcelWriter(\"datasets/final_synthetic_dataset.xlsx\") as excel_writer:\n",
    "    df_hr.to_excel(excel_writer, sheet_name=\"hr\")\n",
    "    df_excel.to_excel(excel_writer, sheet_name=\"retail_prices\")\n",
    "# To CSV\n",
    "# df.to_csv(\"datasets/final_synthetic_dataset.csv\", index=False, columns = ['Department', 'EmployeeNumber']) # saving selected columns only\n",
    "# df.to_csv(\"datasets/final_ibm_hr_analytics.csv\", index=False, header=False) # save without column names"
   ]
  },
  {
   "cell_type": "code",
   "execution_count": null,
   "id": "62da8138-bf10-47f5-9394-a6e9f86c86ce",
   "metadata": {},
   "outputs": [],
   "source": []
  },
  {
   "cell_type": "code",
   "execution_count": null,
   "id": "6b016f62-eaa1-4a7b-a290-9dc4500e4a80",
   "metadata": {},
   "outputs": [],
   "source": []
  }
 ],
 "metadata": {
  "kernelspec": {
   "display_name": "ml_env",
   "language": "python",
   "name": "ml_env"
  },
  "language_info": {
   "codemirror_mode": {
    "name": "ipython",
    "version": 3
   },
   "file_extension": ".py",
   "mimetype": "text/x-python",
   "name": "python",
   "nbconvert_exporter": "python",
   "pygments_lexer": "ipython3",
   "version": "3.10.6"
  }
 },
 "nbformat": 4,
 "nbformat_minor": 5
}
