{
 "cells": [
  {
   "cell_type": "code",
   "execution_count": 1,
   "id": "f1f7a528-bc09-4c91-b787-baf9ee2e2e8f",
   "metadata": {},
   "outputs": [],
   "source": [
    "# !pip install pandas matplotlib"
   ]
  },
  {
   "cell_type": "code",
   "execution_count": 2,
   "id": "0a598a6b-2400-4b3c-ab06-c2e0009aad4d",
   "metadata": {},
   "outputs": [],
   "source": [
    "import numpy as np\n",
    "import pandas as pd\n",
    "from datetime import datetime\n",
    "import seaborn as sns\n",
    "import matplotlib.pyplot as plt\n",
    "%matplotlib inline\n",
    "import warnings\n",
    "warnings.filterwarnings(\"ignore\")"
   ]
  },
  {
   "cell_type": "markdown",
   "id": "389714aa-73bd-48a6-8797-c4a11d29069c",
   "metadata": {},
   "source": [
    "# Time series forecasting is the process of using historical data to predict future values.  \n",
    "A time series is just a series of data points in time order. It's used in areas like:  \n",
    "Stock market prediction  \n",
    "Weather forecasting  \n",
    "Power consumption planning  \n",
    "Sales forecasting  \n"
   ]
  },
  {
   "cell_type": "markdown",
   "id": "2a3b6dee-bb51-4356-8a89-ce146f406b7c",
   "metadata": {},
   "source": [
    "### Creating a Date Range"
   ]
  },
  {
   "cell_type": "code",
   "execution_count": 3,
   "id": "21b0ec52-0afb-476f-9c6c-5059ed44b340",
   "metadata": {},
   "outputs": [
    {
     "data": {
      "text/plain": [
       "DatetimeIndex(['2025-01-01', '2025-01-02', '2025-01-03', '2025-01-06',\n",
       "               '2025-01-07', '2025-01-08', '2025-01-09', '2025-01-10',\n",
       "               '2025-01-13', '2025-01-14', '2025-01-15', '2025-01-16',\n",
       "               '2025-01-17', '2025-01-20', '2025-01-21', '2025-01-22',\n",
       "               '2025-01-23', '2025-01-24', '2025-01-27', '2025-01-28',\n",
       "               '2025-01-29', '2025-01-30', '2025-01-31', '2025-02-03',\n",
       "               '2025-02-04', '2025-02-05'],\n",
       "              dtype='datetime64[ns]', freq='B')"
      ]
     },
     "execution_count": 3,
     "metadata": {},
     "output_type": "execute_result"
    }
   ],
   "source": [
    "date_rng = pd.date_range(start='2025-01-01', end='2025-02-05', freq = 'B') # Business days (doesnot includes weekends)\n",
    "# date_rng = pd.date_range(start='2025-01-01', end='2025-02-05', freq = 'D') # Daily frequency\n",
    "# date_rng = pd.date_range(start='2025-01-01', periods=36, freq = 'D') # 36 Days( Daily frequency) from start date\n",
    "date_rng"
   ]
  },
  {
   "cell_type": "markdown",
   "id": "58df179f-02a5-4aee-8e20-5ccd7aed35db",
   "metadata": {},
   "source": [
    "### Creating a Time Series DataFrame"
   ]
  },
  {
   "cell_type": "code",
   "execution_count": 4,
   "id": "9b6c4f4d-004d-4089-be61-ea75a0b2b01b",
   "metadata": {},
   "outputs": [
    {
     "data": {
      "text/html": [
       "<div>\n",
       "<style scoped>\n",
       "    .dataframe tbody tr th:only-of-type {\n",
       "        vertical-align: middle;\n",
       "    }\n",
       "\n",
       "    .dataframe tbody tr th {\n",
       "        vertical-align: top;\n",
       "    }\n",
       "\n",
       "    .dataframe thead th {\n",
       "        text-align: right;\n",
       "    }\n",
       "</style>\n",
       "<table border=\"1\" class=\"dataframe\">\n",
       "  <thead>\n",
       "    <tr style=\"text-align: right;\">\n",
       "      <th></th>\n",
       "      <th>data</th>\n",
       "    </tr>\n",
       "    <tr>\n",
       "      <th>date</th>\n",
       "      <th></th>\n",
       "    </tr>\n",
       "  </thead>\n",
       "  <tbody>\n",
       "    <tr>\n",
       "      <th>2025-01-01</th>\n",
       "      <td>-1.390514</td>\n",
       "    </tr>\n",
       "    <tr>\n",
       "      <th>2025-01-02</th>\n",
       "      <td>-0.088763</td>\n",
       "    </tr>\n",
       "    <tr>\n",
       "      <th>2025-01-03</th>\n",
       "      <td>-0.253976</td>\n",
       "    </tr>\n",
       "    <tr>\n",
       "      <th>2025-01-06</th>\n",
       "      <td>-0.214264</td>\n",
       "    </tr>\n",
       "    <tr>\n",
       "      <th>2025-01-07</th>\n",
       "      <td>-2.175421</td>\n",
       "    </tr>\n",
       "  </tbody>\n",
       "</table>\n",
       "</div>"
      ],
      "text/plain": [
       "                data\n",
       "date                \n",
       "2025-01-01 -1.390514\n",
       "2025-01-02 -0.088763\n",
       "2025-01-03 -0.253976\n",
       "2025-01-06 -0.214264\n",
       "2025-01-07 -2.175421"
      ]
     },
     "execution_count": 4,
     "metadata": {},
     "output_type": "execute_result"
    }
   ],
   "source": [
    "ts_df = pd.DataFrame(date_rng, columns=[\"date\"])\n",
    "ts_df[\"data\"] = np.random.randn(len(date_rng)) # generate random data\n",
    "ts_df = ts_df.set_index(\"date\")\n",
    "ts_df.head()"
   ]
  },
  {
   "cell_type": "markdown",
   "id": "c1018d0e-180e-47b8-b9f3-5b07e6b5d702",
   "metadata": {},
   "source": [
    "### Datetime Index and Frequency"
   ]
  },
  {
   "cell_type": "code",
   "execution_count": 5,
   "id": "d4859a0d-929f-452e-a54f-e6dd9b380747",
   "metadata": {},
   "outputs": [
    {
     "data": {
      "text/html": [
       "<div>\n",
       "<style scoped>\n",
       "    .dataframe tbody tr th:only-of-type {\n",
       "        vertical-align: middle;\n",
       "    }\n",
       "\n",
       "    .dataframe tbody tr th {\n",
       "        vertical-align: top;\n",
       "    }\n",
       "\n",
       "    .dataframe thead th {\n",
       "        text-align: right;\n",
       "    }\n",
       "</style>\n",
       "<table border=\"1\" class=\"dataframe\">\n",
       "  <thead>\n",
       "    <tr style=\"text-align: right;\">\n",
       "      <th></th>\n",
       "      <th>data</th>\n",
       "    </tr>\n",
       "    <tr>\n",
       "      <th>date</th>\n",
       "      <th></th>\n",
       "    </tr>\n",
       "  </thead>\n",
       "  <tbody>\n",
       "    <tr>\n",
       "      <th>2025-01-01</th>\n",
       "      <td>-1.390514</td>\n",
       "    </tr>\n",
       "    <tr>\n",
       "      <th>2025-01-02</th>\n",
       "      <td>-0.088763</td>\n",
       "    </tr>\n",
       "    <tr>\n",
       "      <th>2025-01-03</th>\n",
       "      <td>-0.253976</td>\n",
       "    </tr>\n",
       "    <tr>\n",
       "      <th>2025-01-04</th>\n",
       "      <td>NaN</td>\n",
       "    </tr>\n",
       "    <tr>\n",
       "      <th>2025-01-05</th>\n",
       "      <td>NaN</td>\n",
       "    </tr>\n",
       "    <tr>\n",
       "      <th>2025-01-06</th>\n",
       "      <td>-0.214264</td>\n",
       "    </tr>\n",
       "    <tr>\n",
       "      <th>2025-01-07</th>\n",
       "      <td>-2.175421</td>\n",
       "    </tr>\n",
       "    <tr>\n",
       "      <th>2025-01-08</th>\n",
       "      <td>1.303350</td>\n",
       "    </tr>\n",
       "    <tr>\n",
       "      <th>2025-01-09</th>\n",
       "      <td>0.975083</td>\n",
       "    </tr>\n",
       "    <tr>\n",
       "      <th>2025-01-10</th>\n",
       "      <td>2.081652</td>\n",
       "    </tr>\n",
       "  </tbody>\n",
       "</table>\n",
       "</div>"
      ],
      "text/plain": [
       "                data\n",
       "date                \n",
       "2025-01-01 -1.390514\n",
       "2025-01-02 -0.088763\n",
       "2025-01-03 -0.253976\n",
       "2025-01-04       NaN\n",
       "2025-01-05       NaN\n",
       "2025-01-06 -0.214264\n",
       "2025-01-07 -2.175421\n",
       "2025-01-08  1.303350\n",
       "2025-01-09  0.975083\n",
       "2025-01-10  2.081652"
      ]
     },
     "execution_count": 5,
     "metadata": {},
     "output_type": "execute_result"
    }
   ],
   "source": [
    "ts_df = ts_df.asfreq('D') # Daily Frequency\n",
    "ts_df.head(10) # missing values on weekend"
   ]
  },
  {
   "cell_type": "markdown",
   "id": "0a1aba93-8681-449c-8059-234f89e9240a",
   "metadata": {},
   "source": [
    "### Handling Missing Dates and Values"
   ]
  },
  {
   "cell_type": "code",
   "execution_count": 6,
   "id": "204b0fb3-1bd1-4d8f-a193-ebcc0f532795",
   "metadata": {},
   "outputs": [
    {
     "data": {
      "text/html": [
       "<div>\n",
       "<style scoped>\n",
       "    .dataframe tbody tr th:only-of-type {\n",
       "        vertical-align: middle;\n",
       "    }\n",
       "\n",
       "    .dataframe tbody tr th {\n",
       "        vertical-align: top;\n",
       "    }\n",
       "\n",
       "    .dataframe thead th {\n",
       "        text-align: right;\n",
       "    }\n",
       "</style>\n",
       "<table border=\"1\" class=\"dataframe\">\n",
       "  <thead>\n",
       "    <tr style=\"text-align: right;\">\n",
       "      <th></th>\n",
       "      <th>data</th>\n",
       "    </tr>\n",
       "    <tr>\n",
       "      <th>date</th>\n",
       "      <th></th>\n",
       "    </tr>\n",
       "  </thead>\n",
       "  <tbody>\n",
       "    <tr>\n",
       "      <th>2025-01-01</th>\n",
       "      <td>-1.390514</td>\n",
       "    </tr>\n",
       "    <tr>\n",
       "      <th>2025-01-02</th>\n",
       "      <td>-0.088763</td>\n",
       "    </tr>\n",
       "    <tr>\n",
       "      <th>2025-01-03</th>\n",
       "      <td>-0.253976</td>\n",
       "    </tr>\n",
       "    <tr>\n",
       "      <th>2025-01-04</th>\n",
       "      <td>-0.253976</td>\n",
       "    </tr>\n",
       "    <tr>\n",
       "      <th>2025-01-05</th>\n",
       "      <td>-0.253976</td>\n",
       "    </tr>\n",
       "    <tr>\n",
       "      <th>2025-01-06</th>\n",
       "      <td>-0.214264</td>\n",
       "    </tr>\n",
       "    <tr>\n",
       "      <th>2025-01-07</th>\n",
       "      <td>-2.175421</td>\n",
       "    </tr>\n",
       "    <tr>\n",
       "      <th>2025-01-08</th>\n",
       "      <td>1.303350</td>\n",
       "    </tr>\n",
       "    <tr>\n",
       "      <th>2025-01-09</th>\n",
       "      <td>0.975083</td>\n",
       "    </tr>\n",
       "    <tr>\n",
       "      <th>2025-01-10</th>\n",
       "      <td>2.081652</td>\n",
       "    </tr>\n",
       "  </tbody>\n",
       "</table>\n",
       "</div>"
      ],
      "text/plain": [
       "                data\n",
       "date                \n",
       "2025-01-01 -1.390514\n",
       "2025-01-02 -0.088763\n",
       "2025-01-03 -0.253976\n",
       "2025-01-04 -0.253976\n",
       "2025-01-05 -0.253976\n",
       "2025-01-06 -0.214264\n",
       "2025-01-07 -2.175421\n",
       "2025-01-08  1.303350\n",
       "2025-01-09  0.975083\n",
       "2025-01-10  2.081652"
      ]
     },
     "execution_count": 6,
     "metadata": {},
     "output_type": "execute_result"
    }
   ],
   "source": [
    "# ts_df = ts_df.fillna(method=\"pad\") # forward fill values\n",
    "# or\n",
    "ts_df = ts_df.fillna(method=\"ffill\")\n",
    "# ts_df = ts_df.fillna(method=\"bfill\") # backward fill values\n",
    "ts_df.head(10)"
   ]
  },
  {
   "cell_type": "markdown",
   "id": "a1571e62-1e34-408c-b12b-014636843bf0",
   "metadata": {},
   "source": [
    "### DateTime Conversion"
   ]
  },
  {
   "cell_type": "code",
   "execution_count": 7,
   "id": "f59dbbbb-844e-4a20-9a10-e2b4bb900526",
   "metadata": {},
   "outputs": [
    {
     "name": "stdout",
     "output_type": "stream",
     "text": [
      "<class 'pandas.core.frame.DataFrame'>\n",
      "RangeIndex: 3 entries, 0 to 2\n",
      "Data columns (total 2 columns):\n",
      " #   Column  Non-Null Count  Dtype \n",
      "---  ------  --------------  ----- \n",
      " 0   date    3 non-null      object\n",
      " 1   value   3 non-null      int64 \n",
      "dtypes: int64(1), object(1)\n",
      "memory usage: 176.0+ bytes\n"
     ]
    }
   ],
   "source": [
    "df = pd.DataFrame({'date': ['2024-01-01', '2024-01-02', '##&81@'], 'value': [10, 15, 20]})\n",
    "df.info()"
   ]
  },
  {
   "cell_type": "code",
   "execution_count": 8,
   "id": "18740000-30ed-4931-ba49-2edadc226f69",
   "metadata": {},
   "outputs": [
    {
     "name": "stdout",
     "output_type": "stream",
     "text": [
      "<class 'pandas.core.frame.DataFrame'>\n",
      "RangeIndex: 3 entries, 0 to 2\n",
      "Data columns (total 2 columns):\n",
      " #   Column  Non-Null Count  Dtype         \n",
      "---  ------  --------------  -----         \n",
      " 0   date    2 non-null      datetime64[ns]\n",
      " 1   value   3 non-null      int64         \n",
      "dtypes: datetime64[ns](1), int64(1)\n",
      "memory usage: 176.0 bytes\n"
     ]
    }
   ],
   "source": [
    "# by default to_datetime follows mm/dd/yy (US date format). So, if dates are in dd/mm/yy format (mostly followed in Europe & Asia), use dayFirst=True\n",
    "# or supply format=\"%Y-%d-%m\".\n",
    "df[\"date\"] = pd.to_datetime(df[\"date\"], dayfirst=True, errors=\"coerce\")\n",
    "df.info()"
   ]
  },
  {
   "cell_type": "code",
   "execution_count": 9,
   "id": "cd05dd5e-83bc-4f5e-b8e8-5c0f3cff8af3",
   "metadata": {},
   "outputs": [
    {
     "data": {
      "text/html": [
       "<div>\n",
       "<style scoped>\n",
       "    .dataframe tbody tr th:only-of-type {\n",
       "        vertical-align: middle;\n",
       "    }\n",
       "\n",
       "    .dataframe tbody tr th {\n",
       "        vertical-align: top;\n",
       "    }\n",
       "\n",
       "    .dataframe thead th {\n",
       "        text-align: right;\n",
       "    }\n",
       "</style>\n",
       "<table border=\"1\" class=\"dataframe\">\n",
       "  <thead>\n",
       "    <tr style=\"text-align: right;\">\n",
       "      <th></th>\n",
       "      <th>date</th>\n",
       "      <th>value</th>\n",
       "      <th>epochs</th>\n",
       "    </tr>\n",
       "  </thead>\n",
       "  <tbody>\n",
       "    <tr>\n",
       "      <th>0</th>\n",
       "      <td>2024-01-01</td>\n",
       "      <td>10</td>\n",
       "      <td>1704067200000000000</td>\n",
       "    </tr>\n",
       "    <tr>\n",
       "      <th>1</th>\n",
       "      <td>2024-02-01</td>\n",
       "      <td>15</td>\n",
       "      <td>1706745600000000000</td>\n",
       "    </tr>\n",
       "    <tr>\n",
       "      <th>2</th>\n",
       "      <td>NaT</td>\n",
       "      <td>20</td>\n",
       "      <td>-9223372036854775808</td>\n",
       "    </tr>\n",
       "  </tbody>\n",
       "</table>\n",
       "</div>"
      ],
      "text/plain": [
       "        date  value               epochs\n",
       "0 2024-01-01     10  1704067200000000000\n",
       "1 2024-02-01     15  1706745600000000000\n",
       "2        NaT     20 -9223372036854775808"
      ]
     },
     "execution_count": 9,
     "metadata": {},
     "output_type": "execute_result"
    }
   ],
   "source": [
    "df[\"epochs\"] = df[\"date\"].view(\"int64\") # to get time in epochs in nanosecs (Unix system (number of seconds since, Jan 1, 1970 UTC))\n",
    "df"
   ]
  },
  {
   "cell_type": "code",
   "execution_count": 10,
   "id": "29fdeb78-6f9e-4025-a0e2-c5e56fcdb63e",
   "metadata": {},
   "outputs": [
    {
     "data": {
      "text/html": [
       "<div>\n",
       "<style scoped>\n",
       "    .dataframe tbody tr th:only-of-type {\n",
       "        vertical-align: middle;\n",
       "    }\n",
       "\n",
       "    .dataframe tbody tr th {\n",
       "        vertical-align: top;\n",
       "    }\n",
       "\n",
       "    .dataframe thead th {\n",
       "        text-align: right;\n",
       "    }\n",
       "</style>\n",
       "<table border=\"1\" class=\"dataframe\">\n",
       "  <thead>\n",
       "    <tr style=\"text-align: right;\">\n",
       "      <th></th>\n",
       "      <th>date</th>\n",
       "      <th>value</th>\n",
       "      <th>epochs</th>\n",
       "      <th>year</th>\n",
       "      <th>month</th>\n",
       "      <th>day</th>\n",
       "      <th>dayofweek</th>\n",
       "    </tr>\n",
       "  </thead>\n",
       "  <tbody>\n",
       "    <tr>\n",
       "      <th>0</th>\n",
       "      <td>2024-01-01</td>\n",
       "      <td>10</td>\n",
       "      <td>1704067200000000000</td>\n",
       "      <td>2024.0</td>\n",
       "      <td>1.0</td>\n",
       "      <td>1.0</td>\n",
       "      <td>0.0</td>\n",
       "    </tr>\n",
       "    <tr>\n",
       "      <th>1</th>\n",
       "      <td>2024-02-01</td>\n",
       "      <td>15</td>\n",
       "      <td>1706745600000000000</td>\n",
       "      <td>2024.0</td>\n",
       "      <td>2.0</td>\n",
       "      <td>1.0</td>\n",
       "      <td>3.0</td>\n",
       "    </tr>\n",
       "    <tr>\n",
       "      <th>2</th>\n",
       "      <td>NaT</td>\n",
       "      <td>20</td>\n",
       "      <td>-9223372036854775808</td>\n",
       "      <td>NaN</td>\n",
       "      <td>NaN</td>\n",
       "      <td>NaN</td>\n",
       "      <td>NaN</td>\n",
       "    </tr>\n",
       "  </tbody>\n",
       "</table>\n",
       "</div>"
      ],
      "text/plain": [
       "        date  value               epochs    year  month  day  dayofweek\n",
       "0 2024-01-01     10  1704067200000000000  2024.0    1.0  1.0        0.0\n",
       "1 2024-02-01     15  1706745600000000000  2024.0    2.0  1.0        3.0\n",
       "2        NaT     20 -9223372036854775808     NaN    NaN  NaN        NaN"
      ]
     },
     "execution_count": 10,
     "metadata": {},
     "output_type": "execute_result"
    }
   ],
   "source": [
    "# extracting date time characteristics\n",
    "df['year'] = df.date.dt.year\n",
    "df['month'] = df.date.dt.month\n",
    "df['day'] = df.date.dt.day\n",
    "df['dayofweek'] = df.date.dt.dayofweek\n",
    "df.head()"
   ]
  },
  {
   "cell_type": "markdown",
   "id": "8168c72a-2455-499d-9954-eef23f62b75b",
   "metadata": {},
   "source": [
    "### Loading the existing datetime data"
   ]
  },
  {
   "cell_type": "code",
   "execution_count": 11,
   "id": "886f2d1c-6720-4fbf-b731-8cdab257998e",
   "metadata": {},
   "outputs": [],
   "source": [
    "# https://archive.ics.uci.edu/dataset/235/individual+household+electric+power+consumption\n",
    "df = pd.read_csv(\"datasets/household_power_consumption.txt\", sep=\";\", parse_dates={'datetime': ['Date', 'Time']}, infer_datetime_format=True, index_col='datetime', na_values='?', low_memory=False, dtype='float32')"
   ]
  },
  {
   "cell_type": "code",
   "execution_count": 12,
   "id": "7bb43ab5-788c-48c7-a6c5-4f9bcce76c28",
   "metadata": {},
   "outputs": [
    {
     "name": "stdout",
     "output_type": "stream",
     "text": [
      "(2075259, 7)\n"
     ]
    },
    {
     "data": {
      "text/html": [
       "<div>\n",
       "<style scoped>\n",
       "    .dataframe tbody tr th:only-of-type {\n",
       "        vertical-align: middle;\n",
       "    }\n",
       "\n",
       "    .dataframe tbody tr th {\n",
       "        vertical-align: top;\n",
       "    }\n",
       "\n",
       "    .dataframe thead th {\n",
       "        text-align: right;\n",
       "    }\n",
       "</style>\n",
       "<table border=\"1\" class=\"dataframe\">\n",
       "  <thead>\n",
       "    <tr style=\"text-align: right;\">\n",
       "      <th></th>\n",
       "      <th>Global_active_power</th>\n",
       "      <th>Global_reactive_power</th>\n",
       "      <th>Voltage</th>\n",
       "      <th>Global_intensity</th>\n",
       "      <th>Sub_metering_1</th>\n",
       "      <th>Sub_metering_2</th>\n",
       "      <th>Sub_metering_3</th>\n",
       "    </tr>\n",
       "    <tr>\n",
       "      <th>datetime</th>\n",
       "      <th></th>\n",
       "      <th></th>\n",
       "      <th></th>\n",
       "      <th></th>\n",
       "      <th></th>\n",
       "      <th></th>\n",
       "      <th></th>\n",
       "    </tr>\n",
       "  </thead>\n",
       "  <tbody>\n",
       "    <tr>\n",
       "      <th>2006-12-16 17:24:00</th>\n",
       "      <td>4.216</td>\n",
       "      <td>0.418</td>\n",
       "      <td>234.839996</td>\n",
       "      <td>18.4</td>\n",
       "      <td>0.0</td>\n",
       "      <td>1.0</td>\n",
       "      <td>17.0</td>\n",
       "    </tr>\n",
       "    <tr>\n",
       "      <th>2006-12-16 17:25:00</th>\n",
       "      <td>5.360</td>\n",
       "      <td>0.436</td>\n",
       "      <td>233.630005</td>\n",
       "      <td>23.0</td>\n",
       "      <td>0.0</td>\n",
       "      <td>1.0</td>\n",
       "      <td>16.0</td>\n",
       "    </tr>\n",
       "    <tr>\n",
       "      <th>2006-12-16 17:26:00</th>\n",
       "      <td>5.374</td>\n",
       "      <td>0.498</td>\n",
       "      <td>233.289993</td>\n",
       "      <td>23.0</td>\n",
       "      <td>0.0</td>\n",
       "      <td>2.0</td>\n",
       "      <td>17.0</td>\n",
       "    </tr>\n",
       "    <tr>\n",
       "      <th>2006-12-16 17:27:00</th>\n",
       "      <td>5.388</td>\n",
       "      <td>0.502</td>\n",
       "      <td>233.740005</td>\n",
       "      <td>23.0</td>\n",
       "      <td>0.0</td>\n",
       "      <td>1.0</td>\n",
       "      <td>17.0</td>\n",
       "    </tr>\n",
       "    <tr>\n",
       "      <th>2006-12-16 17:28:00</th>\n",
       "      <td>3.666</td>\n",
       "      <td>0.528</td>\n",
       "      <td>235.679993</td>\n",
       "      <td>15.8</td>\n",
       "      <td>0.0</td>\n",
       "      <td>1.0</td>\n",
       "      <td>17.0</td>\n",
       "    </tr>\n",
       "  </tbody>\n",
       "</table>\n",
       "</div>"
      ],
      "text/plain": [
       "                     Global_active_power  Global_reactive_power     Voltage  \\\n",
       "datetime                                                                      \n",
       "2006-12-16 17:24:00                4.216                  0.418  234.839996   \n",
       "2006-12-16 17:25:00                5.360                  0.436  233.630005   \n",
       "2006-12-16 17:26:00                5.374                  0.498  233.289993   \n",
       "2006-12-16 17:27:00                5.388                  0.502  233.740005   \n",
       "2006-12-16 17:28:00                3.666                  0.528  235.679993   \n",
       "\n",
       "                     Global_intensity  Sub_metering_1  Sub_metering_2  \\\n",
       "datetime                                                                \n",
       "2006-12-16 17:24:00              18.4             0.0             1.0   \n",
       "2006-12-16 17:25:00              23.0             0.0             1.0   \n",
       "2006-12-16 17:26:00              23.0             0.0             2.0   \n",
       "2006-12-16 17:27:00              23.0             0.0             1.0   \n",
       "2006-12-16 17:28:00              15.8             0.0             1.0   \n",
       "\n",
       "                     Sub_metering_3  \n",
       "datetime                             \n",
       "2006-12-16 17:24:00            17.0  \n",
       "2006-12-16 17:25:00            16.0  \n",
       "2006-12-16 17:26:00            17.0  \n",
       "2006-12-16 17:27:00            17.0  \n",
       "2006-12-16 17:28:00            17.0  "
      ]
     },
     "execution_count": 12,
     "metadata": {},
     "output_type": "execute_result"
    }
   ],
   "source": [
    "print(df.shape)\n",
    "df.head(5)"
   ]
  },
  {
   "cell_type": "code",
   "execution_count": 13,
   "id": "629870a7-bca2-4c64-8a6e-1b5a02c44b70",
   "metadata": {},
   "outputs": [
    {
     "data": {
      "text/plain": [
       "Global_active_power      25979\n",
       "Global_reactive_power    25979\n",
       "Voltage                  25979\n",
       "Global_intensity         25979\n",
       "Sub_metering_1           25979\n",
       "Sub_metering_2           25979\n",
       "Sub_metering_3           25979\n",
       "dtype: int64"
      ]
     },
     "execution_count": 13,
     "metadata": {},
     "output_type": "execute_result"
    }
   ],
   "source": [
    "df.isna().sum()"
   ]
  },
  {
   "cell_type": "code",
   "execution_count": 14,
   "id": "6f36cc8a-9c69-4139-9809-c5b419953e82",
   "metadata": {},
   "outputs": [],
   "source": [
    "# df = df.fillna(method=\"ffill\")\n",
    "# df.isna().sum()"
   ]
  },
  {
   "cell_type": "code",
   "execution_count": 15,
   "id": "385baee0-a4b2-4329-819a-8089fa674beb",
   "metadata": {},
   "outputs": [
    {
     "name": "stdout",
     "output_type": "stream",
     "text": [
      "<class 'pandas.core.frame.DataFrame'>\n",
      "DatetimeIndex: 2075259 entries, 2006-12-16 17:24:00 to 2010-11-26 21:02:00\n",
      "Data columns (total 7 columns):\n",
      " #   Column                 Dtype  \n",
      "---  ------                 -----  \n",
      " 0   Global_active_power    float32\n",
      " 1   Global_reactive_power  float32\n",
      " 2   Voltage                float32\n",
      " 3   Global_intensity       float32\n",
      " 4   Sub_metering_1         float32\n",
      " 5   Sub_metering_2         float32\n",
      " 6   Sub_metering_3         float32\n",
      "dtypes: float32(7)\n",
      "memory usage: 71.2 MB\n"
     ]
    }
   ],
   "source": [
    "df.info()"
   ]
  },
  {
   "cell_type": "markdown",
   "id": "67dbbd3d-080e-44e7-ba14-b1692db78ae2",
   "metadata": {},
   "source": [
    "### Indexing in Time series data"
   ]
  },
  {
   "cell_type": "code",
   "execution_count": 16,
   "id": "749dba24-4061-4513-b351-312e818d1d72",
   "metadata": {},
   "outputs": [
    {
     "data": {
      "text/plain": [
       "(1836, 7)"
      ]
     },
     "execution_count": 16,
     "metadata": {},
     "output_type": "execute_result"
    }
   ],
   "source": [
    "df.loc['2006-12-16': '2006-12-17'].shape # daily level indexing data retrieval (power consumption on 2006-12-16 & 2006-12-17)"
   ]
  },
  {
   "cell_type": "code",
   "execution_count": 17,
   "id": "de1590c2-81fb-427f-81c9-f5916c7dcbd3",
   "metadata": {},
   "outputs": [
    {
     "data": {
      "text/plain": [
       "(396, 7)"
      ]
     },
     "execution_count": 17,
     "metadata": {},
     "output_type": "execute_result"
    }
   ],
   "source": [
    "df.loc['2006-12-16'].shape # power consumption on a single day"
   ]
  },
  {
   "cell_type": "code",
   "execution_count": 18,
   "id": "542853e7-839c-4e20-9e72-2e4dd37cae07",
   "metadata": {},
   "outputs": [
    {
     "data": {
      "text/plain": [
       "(66636, 7)"
      ]
     },
     "execution_count": 18,
     "metadata": {},
     "output_type": "execute_result"
    }
   ],
   "source": [
    "df.loc['2006-12': '2007-01'].shape # monthly level indexing data retrieval (power consumption for 2 months)"
   ]
  },
  {
   "cell_type": "code",
   "execution_count": 19,
   "id": "01cf06f7-96f6-4fba-be35-3cd63831431f",
   "metadata": {},
   "outputs": [
    {
     "data": {
      "text/plain": [
       "(547596, 7)"
      ]
     },
     "execution_count": 19,
     "metadata": {},
     "output_type": "execute_result"
    }
   ],
   "source": [
    "df.loc['2006':'2007'].shape # yearly level indexing data retrieval (Power consumption for 2 years)"
   ]
  },
  {
   "cell_type": "markdown",
   "id": "c1da157d-8ee3-431f-bbf0-874d435dd186",
   "metadata": {},
   "source": [
    "### Date Features (Year, Month, etc.)"
   ]
  },
  {
   "cell_type": "code",
   "execution_count": 20,
   "id": "b2f49cae-d8b8-466b-a9dd-ed8d7ede4191",
   "metadata": {},
   "outputs": [
    {
     "data": {
      "text/html": [
       "<div>\n",
       "<style scoped>\n",
       "    .dataframe tbody tr th:only-of-type {\n",
       "        vertical-align: middle;\n",
       "    }\n",
       "\n",
       "    .dataframe tbody tr th {\n",
       "        vertical-align: top;\n",
       "    }\n",
       "\n",
       "    .dataframe thead th {\n",
       "        text-align: right;\n",
       "    }\n",
       "</style>\n",
       "<table border=\"1\" class=\"dataframe\">\n",
       "  <thead>\n",
       "    <tr style=\"text-align: right;\">\n",
       "      <th></th>\n",
       "      <th>Global_active_power</th>\n",
       "      <th>Global_reactive_power</th>\n",
       "      <th>Voltage</th>\n",
       "      <th>Global_intensity</th>\n",
       "      <th>Sub_metering_1</th>\n",
       "      <th>Sub_metering_2</th>\n",
       "      <th>Sub_metering_3</th>\n",
       "      <th>year</th>\n",
       "      <th>month</th>\n",
       "      <th>day</th>\n",
       "      <th>dayofweek</th>\n",
       "      <th>hour</th>\n",
       "      <th>minute</th>\n",
       "      <th>second</th>\n",
       "    </tr>\n",
       "    <tr>\n",
       "      <th>datetime</th>\n",
       "      <th></th>\n",
       "      <th></th>\n",
       "      <th></th>\n",
       "      <th></th>\n",
       "      <th></th>\n",
       "      <th></th>\n",
       "      <th></th>\n",
       "      <th></th>\n",
       "      <th></th>\n",
       "      <th></th>\n",
       "      <th></th>\n",
       "      <th></th>\n",
       "      <th></th>\n",
       "      <th></th>\n",
       "    </tr>\n",
       "  </thead>\n",
       "  <tbody>\n",
       "    <tr>\n",
       "      <th>2006-12-16 17:24:00</th>\n",
       "      <td>4.216</td>\n",
       "      <td>0.418</td>\n",
       "      <td>234.839996</td>\n",
       "      <td>18.4</td>\n",
       "      <td>0.0</td>\n",
       "      <td>1.0</td>\n",
       "      <td>17.0</td>\n",
       "      <td>2006</td>\n",
       "      <td>12</td>\n",
       "      <td>16</td>\n",
       "      <td>5</td>\n",
       "      <td>17</td>\n",
       "      <td>24</td>\n",
       "      <td>0</td>\n",
       "    </tr>\n",
       "    <tr>\n",
       "      <th>2006-12-16 17:25:00</th>\n",
       "      <td>5.360</td>\n",
       "      <td>0.436</td>\n",
       "      <td>233.630005</td>\n",
       "      <td>23.0</td>\n",
       "      <td>0.0</td>\n",
       "      <td>1.0</td>\n",
       "      <td>16.0</td>\n",
       "      <td>2006</td>\n",
       "      <td>12</td>\n",
       "      <td>16</td>\n",
       "      <td>5</td>\n",
       "      <td>17</td>\n",
       "      <td>25</td>\n",
       "      <td>0</td>\n",
       "    </tr>\n",
       "    <tr>\n",
       "      <th>2006-12-16 17:26:00</th>\n",
       "      <td>5.374</td>\n",
       "      <td>0.498</td>\n",
       "      <td>233.289993</td>\n",
       "      <td>23.0</td>\n",
       "      <td>0.0</td>\n",
       "      <td>2.0</td>\n",
       "      <td>17.0</td>\n",
       "      <td>2006</td>\n",
       "      <td>12</td>\n",
       "      <td>16</td>\n",
       "      <td>5</td>\n",
       "      <td>17</td>\n",
       "      <td>26</td>\n",
       "      <td>0</td>\n",
       "    </tr>\n",
       "    <tr>\n",
       "      <th>2006-12-16 17:27:00</th>\n",
       "      <td>5.388</td>\n",
       "      <td>0.502</td>\n",
       "      <td>233.740005</td>\n",
       "      <td>23.0</td>\n",
       "      <td>0.0</td>\n",
       "      <td>1.0</td>\n",
       "      <td>17.0</td>\n",
       "      <td>2006</td>\n",
       "      <td>12</td>\n",
       "      <td>16</td>\n",
       "      <td>5</td>\n",
       "      <td>17</td>\n",
       "      <td>27</td>\n",
       "      <td>0</td>\n",
       "    </tr>\n",
       "    <tr>\n",
       "      <th>2006-12-16 17:28:00</th>\n",
       "      <td>3.666</td>\n",
       "      <td>0.528</td>\n",
       "      <td>235.679993</td>\n",
       "      <td>15.8</td>\n",
       "      <td>0.0</td>\n",
       "      <td>1.0</td>\n",
       "      <td>17.0</td>\n",
       "      <td>2006</td>\n",
       "      <td>12</td>\n",
       "      <td>16</td>\n",
       "      <td>5</td>\n",
       "      <td>17</td>\n",
       "      <td>28</td>\n",
       "      <td>0</td>\n",
       "    </tr>\n",
       "  </tbody>\n",
       "</table>\n",
       "</div>"
      ],
      "text/plain": [
       "                     Global_active_power  Global_reactive_power     Voltage  \\\n",
       "datetime                                                                      \n",
       "2006-12-16 17:24:00                4.216                  0.418  234.839996   \n",
       "2006-12-16 17:25:00                5.360                  0.436  233.630005   \n",
       "2006-12-16 17:26:00                5.374                  0.498  233.289993   \n",
       "2006-12-16 17:27:00                5.388                  0.502  233.740005   \n",
       "2006-12-16 17:28:00                3.666                  0.528  235.679993   \n",
       "\n",
       "                     Global_intensity  Sub_metering_1  Sub_metering_2  \\\n",
       "datetime                                                                \n",
       "2006-12-16 17:24:00              18.4             0.0             1.0   \n",
       "2006-12-16 17:25:00              23.0             0.0             1.0   \n",
       "2006-12-16 17:26:00              23.0             0.0             2.0   \n",
       "2006-12-16 17:27:00              23.0             0.0             1.0   \n",
       "2006-12-16 17:28:00              15.8             0.0             1.0   \n",
       "\n",
       "                     Sub_metering_3  year  month  day  dayofweek  hour  \\\n",
       "datetime                                                                 \n",
       "2006-12-16 17:24:00            17.0  2006     12   16          5    17   \n",
       "2006-12-16 17:25:00            16.0  2006     12   16          5    17   \n",
       "2006-12-16 17:26:00            17.0  2006     12   16          5    17   \n",
       "2006-12-16 17:27:00            17.0  2006     12   16          5    17   \n",
       "2006-12-16 17:28:00            17.0  2006     12   16          5    17   \n",
       "\n",
       "                     minute  second  \n",
       "datetime                             \n",
       "2006-12-16 17:24:00      24       0  \n",
       "2006-12-16 17:25:00      25       0  \n",
       "2006-12-16 17:26:00      26       0  \n",
       "2006-12-16 17:27:00      27       0  \n",
       "2006-12-16 17:28:00      28       0  "
      ]
     },
     "execution_count": 20,
     "metadata": {},
     "output_type": "execute_result"
    }
   ],
   "source": [
    "df['year'] = df.index.year\n",
    "df['month'] = df.index.month\n",
    "df['day'] = df.index.day\n",
    "df['dayofweek'] = df.index.dayofweek\n",
    "df['hour'] = df.index.hour\n",
    "df['minute'] = df.index.minute\n",
    "df['second'] = df.index.second\n",
    "df.head()"
   ]
  },
  {
   "cell_type": "markdown",
   "id": "769c0c83-694e-42c7-bf3b-78e4244bfda9",
   "metadata": {},
   "source": [
    "# Resampling  \n",
    "Resampling means changing the frequency of the time series:  \n",
    "Downsampling: minute → hour/day  # Reducing the sanple size  \n",
    "Upsampling: day → hour (not common unless interpolating)  # Increasing the sample size  "
   ]
  },
  {
   "cell_type": "code",
   "execution_count": 21,
   "id": "0d3ff6b1-1bbb-440d-a124-203209ffb5d0",
   "metadata": {},
   "outputs": [
    {
     "data": {
      "text/plain": [
       "((34589, 14), (1442, 14), (48, 14), (5, 14), (17, 14))"
      ]
     },
     "execution_count": 21,
     "metadata": {},
     "output_type": "execute_result"
    }
   ],
   "source": [
    "# Resampling at different frequencies\n",
    "df_hourly = df.resample(\"H\").mean()\n",
    "df_daily = df.resample(\"D\").mean()\n",
    "df_monthly = df.resample(\"M\").mean()\n",
    "df_yearly = df.resample(\"Y\").mean()\n",
    "df_quaterly = df.resample(\"Q\").mean()\n",
    "df_hourly.shape, df_daily.shape, df_monthly.shape, df_yearly.shape, df_quaterly.shape"
   ]
  },
  {
   "cell_type": "code",
   "execution_count": 22,
   "id": "5f0a110a-ae13-4df6-88a4-e80dd20b12a2",
   "metadata": {},
   "outputs": [
    {
     "data": {
      "image/png": "[encoded data removed]",
      "text/plain": [
       "<Figure size 1000x500 with 1 Axes>"
      ]
     },
     "metadata": {},
     "output_type": "display_data"
    }
   ],
   "source": [
    "plt.figure(figsize=(10,5))\n",
    "df_daily.loc['2009','Global_active_power'].plot(kind='line', color='salmon', linewidth='.8', marker=\"*\")\n",
    "plt.title(\"Daily Power Consumption in year 2009\")\n",
    "plt.ylabel(\"Global_active_power\")\n",
    "plt.show()"
   ]
  },
  {
   "cell_type": "code",
   "execution_count": 23,
   "id": "f6f57f89-ddcb-475e-99c8-e4e0e8fa4507",
   "metadata": {},
   "outputs": [
    {
     "data": {
      "image/png": "[encoded data removed]",
      "text/plain": [
       "<Figure size 500x400 with 1 Axes>"
      ]
     },
     "metadata": {},
     "output_type": "display_data"
    }
   ],
   "source": [
    "plt.figure(figsize=(5,4))\n",
    "df_yearly['Global_active_power'].plot(kind='barh', color='blue')\n",
    "plt.title(\"Yearly Power Consumption\")\n",
    "plt.xlabel(\"Global_active_power\")\n",
    "plt.show()"
   ]
  },
  {
   "cell_type": "markdown",
   "id": "ee1d19c4-3acd-4296-bfab-23dd007decd7",
   "metadata": {},
   "source": [
    "### Holidays  \n",
    "Use Case\t|    How Holidays Help  \n",
    "Forecasting power demand\t|    Adjust for low usage on holidays  \n",
    "Retail sales analysis\t|   Holidays like Christmas boost demand  \n",
    "Office building sensors\t|   No activity during public holidays  "
   ]
  },
  {
   "cell_type": "code",
   "execution_count": 24,
   "id": "1dc51061-995a-44bb-89cf-a7f5aa30e910",
   "metadata": {},
   "outputs": [],
   "source": [
    "from pandas.tseries.holiday import (AbstractHolidayCalendar, Holiday, USFederalHolidayCalendar, nearest_workday)\n",
    "from pandas.tseries.offsets import CustomBusinessDay"
   ]
  },
  {
   "cell_type": "markdown",
   "id": "4a06255a-7b32-49b6-8452-9afe8d292148",
   "metadata": {},
   "source": [
    "##### Use Prebuilt Calendars (e.g. USFederalHolidayCalendar)"
   ]
  },
  {
   "cell_type": "code",
   "execution_count": 25,
   "id": "c3e2ae0e-fff4-420d-85dd-9fa23108d809",
   "metadata": {},
   "outputs": [
    {
     "data": {
      "text/plain": [
       "DatetimeIndex(['2006-12-25', '2007-01-01', '2007-01-15', '2007-02-19',\n",
       "               '2007-05-28', '2007-07-04', '2007-09-03', '2007-10-08',\n",
       "               '2007-11-12', '2007-11-22', '2007-12-25', '2008-01-01',\n",
       "               '2008-01-21', '2008-02-18', '2008-05-26', '2008-07-04',\n",
       "               '2008-09-01', '2008-10-13', '2008-11-11', '2008-11-27',\n",
       "               '2008-12-25', '2009-01-01', '2009-01-19', '2009-02-16',\n",
       "               '2009-05-25', '2009-07-03', '2009-09-07', '2009-10-12',\n",
       "               '2009-11-11', '2009-11-26', '2009-12-25', '2010-01-01',\n",
       "               '2010-01-18', '2010-02-15', '2010-05-31', '2010-07-05',\n",
       "               '2010-09-06', '2010-10-11', '2010-11-11', '2010-11-25',\n",
       "               '2010-12-24', '2010-12-31'],\n",
       "              dtype='datetime64[ns]', freq=None)"
      ]
     },
     "execution_count": 25,
     "metadata": {},
     "output_type": "execute_result"
    }
   ],
   "source": [
    "us_calendar = USFederalHolidayCalendar()\n",
    "us_holidays = us_calendar.holidays(start=\"2006-12-01\", end=\"2010-12-31\")\n",
    "us_holidays"
   ]
  },
  {
   "cell_type": "markdown",
   "id": "d37ee4ae-4b30-41fe-9892-bdf63fa5b59b",
   "metadata": {},
   "source": [
    "##### Define our own custom Holiday Calendar  \n",
    "Since, we are analyzing data from London, it is more relevant to use UK holidays. So, we will define that.  "
   ]
  },
  {
   "cell_type": "code",
   "execution_count": 26,
   "id": "49e2e9f5-915d-4e5c-9f68-afe113a609d3",
   "metadata": {},
   "outputs": [],
   "source": [
    "class UKHolidayCalendar(AbstractHolidayCalendar):\n",
    "    rules = [\n",
    "        Holiday('New Year\\'s Day', month=1, day=1, observance=nearest_workday),\n",
    "        Holiday('Good Friday', month=4, day=2, observance=nearest_workday),   # use specific years for accuracy (if not constant every year)\n",
    "        Holiday('Easter Monday', month=4, day=5, observance=nearest_workday),\n",
    "        Holiday('Early May Bank Holiday', month=5, day=3, observance=nearest_workday),\n",
    "        Holiday('Spring Bank Holiday', month=5, day=31, observance=nearest_workday),\n",
    "        Holiday('Summer Bank Holiday', month=8, day=30, observance=nearest_workday),\n",
    "        Holiday('Christmas Day', month=12, day=25, observance=nearest_workday),\n",
    "        Holiday('Boxing Day', month=12, day=26, observance=nearest_workday),\n",
    "    ]\n",
    "# observance is nearest_workday i.e. if the holiday falls on weekend, we declare the closest working day as holiday"
   ]
  },
  {
   "cell_type": "code",
   "execution_count": 27,
   "id": "0e96b77c-e5c7-4539-97c6-e7e8587ab63f",
   "metadata": {},
   "outputs": [
    {
     "data": {
      "text/plain": [
       "DatetimeIndex(['2006-12-25', '2006-12-26', '2007-01-01', '2007-04-02',\n",
       "               '2007-04-05', '2007-05-03', '2007-05-31', '2007-08-30',\n",
       "               '2007-12-25', '2007-12-26', '2008-01-01', '2008-04-02',\n",
       "               '2008-04-04', '2008-05-02', '2008-05-30', '2008-08-29',\n",
       "               '2008-12-25', '2008-12-26', '2009-01-01', '2009-04-02',\n",
       "               '2009-04-06', '2009-05-04', '2009-06-01', '2009-08-31',\n",
       "               '2009-12-25', '2009-12-25', '2010-01-01', '2010-04-02',\n",
       "               '2010-04-05', '2010-05-03', '2010-05-31', '2010-08-30',\n",
       "               '2010-12-24', '2010-12-27', '2010-12-31'],\n",
       "              dtype='datetime64[ns]', freq=None)"
      ]
     },
     "execution_count": 27,
     "metadata": {},
     "output_type": "execute_result"
    }
   ],
   "source": [
    "uk_calendar = UKHolidayCalendar()\n",
    "uk_holidays = uk_calendar.holidays(start=\"2006-12-01\", end=\"2010-12-31\")\n",
    "uk_holidays"
   ]
  },
  {
   "cell_type": "code",
   "execution_count": 28,
   "id": "93316b73-7031-44af-99ba-8edd416b2a5a",
   "metadata": {},
   "outputs": [],
   "source": [
    "### Adding it to our power consumption data\n",
    "df_daily[\"is_holiday\"] = df_daily.index.normalize().isin(uk_holidays)"
   ]
  },
  {
   "cell_type": "code",
   "execution_count": 29,
   "id": "167455de-2b8f-401b-a74d-980334f245b4",
   "metadata": {},
   "outputs": [
    {
     "data": {
      "text/plain": [
       "31"
      ]
     },
     "execution_count": 29,
     "metadata": {},
     "output_type": "execute_result"
    }
   ],
   "source": [
    "df_daily.loc[df_daily[\"is_holiday\"]].shape[0] # 31 holidays detected between 2006-12 to 2010-12"
   ]
  },
  {
   "cell_type": "code",
   "execution_count": 30,
   "id": "6e4d1826-e15c-4146-8527-6175c43b3574",
   "metadata": {},
   "outputs": [
    {
     "data": {
      "text/plain": [
       "DatetimeIndex(['2006-12-16', '2006-12-17', '2006-12-18', '2006-12-19',\n",
       "               '2006-12-20', '2006-12-21', '2006-12-22', '2006-12-23',\n",
       "               '2006-12-24', '2006-12-25',\n",
       "               ...\n",
       "               '2010-11-17', '2010-11-18', '2010-11-19', '2010-11-20',\n",
       "               '2010-11-21', '2010-11-22', '2010-11-23', '2010-11-24',\n",
       "               '2010-11-25', '2010-11-26'],\n",
       "              dtype='datetime64[ns]', name='datetime', length=1442, freq='D')"
      ]
     },
     "execution_count": 30,
     "metadata": {},
     "output_type": "execute_result"
    }
   ],
   "source": [
    "df_daily.index"
   ]
  },
  {
   "cell_type": "markdown",
   "id": "f8685217-b5d6-4c55-ad17-cf7136443607",
   "metadata": {},
   "source": [
    "##### Visualize Power Consumption on Holidays vs Non-Holidays"
   ]
  },
  {
   "cell_type": "code",
   "execution_count": 31,
   "id": "0c1d06da-4b45-484a-aeff-2e4c85190978",
   "metadata": {},
   "outputs": [
    {
     "data": {
      "image/png": "[encoded data removed]",
      "text/plain": [
       "<Figure size 500x400 with 1 Axes>"
      ]
     },
     "metadata": {},
     "output_type": "display_data"
    }
   ],
   "source": [
    "plt.figure(figsize=(5,4))\n",
    "sns.boxplot(data=df_daily, x=\"is_holiday\", y=\"Global_active_power\")\n",
    "plt.title(\"Power Consumption: Holidays vs Non-Holidays\")\n",
    "plt.xlabel(\"Is Holiday\")\n",
    "plt.ylabel(\"Global active Power(kW)\")\n",
    "plt.grid(True)\n",
    "plt.show()"
   ]
  },
  {
   "cell_type": "markdown",
   "id": "41002201-f36d-45dd-9c47-9f49f06cf467",
   "metadata": {},
   "source": [
    "As expected, mostly low power consumption on holidays."
   ]
  },
  {
   "cell_type": "markdown",
   "id": "e8cbe968-786b-45e9-92e8-e3e30e5c092a",
   "metadata": {},
   "source": [
    "##### Create business days excluding your holidays"
   ]
  },
  {
   "cell_type": "code",
   "execution_count": 32,
   "id": "4761bbb0-0741-44a3-944f-2f12f09dac2f",
   "metadata": {},
   "outputs": [
    {
     "data": {
      "text/plain": [
       "DatetimeIndex(['2024-12-20', '2024-12-23', '2024-12-24', '2024-12-27',\n",
       "               '2024-12-30', '2024-12-31', '2025-01-02', '2025-01-03',\n",
       "               '2025-01-06', '2025-01-07', '2025-01-08', '2025-01-09',\n",
       "               '2025-01-10'],\n",
       "              dtype='datetime64[ns]', freq='C')"
      ]
     },
     "execution_count": 32,
     "metadata": {},
     "output_type": "execute_result"
    }
   ],
   "source": [
    "my_offday = CustomBusinessDay(calendar=UKHolidayCalendar())\n",
    "working_days = pd.date_range('2024-12-20', '2025-01-10', freq=my_offday)\n",
    "working_days"
   ]
  },
  {
   "cell_type": "markdown",
   "id": "68c1a730-2558-4bdb-9c43-2b70574798b8",
   "metadata": {},
   "source": [
    "### Shifting, Lagging and Rolling  \n",
    "##### Shifting and Lagging:  \n",
    "Goal: Use past values to engineer features or compute changes. Use Case: Forecasting models, detecting spikes, or understanding momentum.  \n",
    "##### Rolling Windows (Smoothing + Aggregation)  \n",
    "A rolling window is a fixed-size window that \"slides\" over the time series data and performs a statistical operation (like mean, sum, or std) on each window.  \n",
    "Goal: Smooth short-term noise or track moving averages. Useful for detecting trends, anomalies, or seasonal effects.  \n"
   ]
  },
  {
   "cell_type": "code",
   "execution_count": 33,
   "id": "c1b34463-fb89-495e-a9e3-5f867fa1fc25",
   "metadata": {},
   "outputs": [
    {
     "data": {
      "text/html": [
       "<div>\n",
       "<style scoped>\n",
       "    .dataframe tbody tr th:only-of-type {\n",
       "        vertical-align: middle;\n",
       "    }\n",
       "\n",
       "    .dataframe tbody tr th {\n",
       "        vertical-align: top;\n",
       "    }\n",
       "\n",
       "    .dataframe thead th {\n",
       "        text-align: right;\n",
       "    }\n",
       "</style>\n",
       "<table border=\"1\" class=\"dataframe\">\n",
       "  <thead>\n",
       "    <tr style=\"text-align: right;\">\n",
       "      <th></th>\n",
       "      <th>Global_active_power</th>\n",
       "      <th>Global_reactive_power</th>\n",
       "      <th>Voltage</th>\n",
       "      <th>Global_intensity</th>\n",
       "      <th>Sub_metering_1</th>\n",
       "      <th>Sub_metering_2</th>\n",
       "      <th>Sub_metering_3</th>\n",
       "      <th>year</th>\n",
       "      <th>month</th>\n",
       "      <th>day</th>\n",
       "      <th>dayofweek</th>\n",
       "      <th>hour</th>\n",
       "      <th>minute</th>\n",
       "      <th>second</th>\n",
       "    </tr>\n",
       "    <tr>\n",
       "      <th>datetime</th>\n",
       "      <th></th>\n",
       "      <th></th>\n",
       "      <th></th>\n",
       "      <th></th>\n",
       "      <th></th>\n",
       "      <th></th>\n",
       "      <th></th>\n",
       "      <th></th>\n",
       "      <th></th>\n",
       "      <th></th>\n",
       "      <th></th>\n",
       "      <th></th>\n",
       "      <th></th>\n",
       "      <th></th>\n",
       "    </tr>\n",
       "  </thead>\n",
       "  <tbody>\n",
       "    <tr>\n",
       "      <th>2006-12-16 17:24:00</th>\n",
       "      <td>4.216</td>\n",
       "      <td>0.418</td>\n",
       "      <td>234.839996</td>\n",
       "      <td>18.4</td>\n",
       "      <td>0.0</td>\n",
       "      <td>1.0</td>\n",
       "      <td>17.0</td>\n",
       "      <td>2006</td>\n",
       "      <td>12</td>\n",
       "      <td>16</td>\n",
       "      <td>5</td>\n",
       "      <td>17</td>\n",
       "      <td>24</td>\n",
       "      <td>0</td>\n",
       "    </tr>\n",
       "    <tr>\n",
       "      <th>2006-12-16 17:25:00</th>\n",
       "      <td>5.360</td>\n",
       "      <td>0.436</td>\n",
       "      <td>233.630005</td>\n",
       "      <td>23.0</td>\n",
       "      <td>0.0</td>\n",
       "      <td>1.0</td>\n",
       "      <td>16.0</td>\n",
       "      <td>2006</td>\n",
       "      <td>12</td>\n",
       "      <td>16</td>\n",
       "      <td>5</td>\n",
       "      <td>17</td>\n",
       "      <td>25</td>\n",
       "      <td>0</td>\n",
       "    </tr>\n",
       "    <tr>\n",
       "      <th>2006-12-16 17:26:00</th>\n",
       "      <td>5.374</td>\n",
       "      <td>0.498</td>\n",
       "      <td>233.289993</td>\n",
       "      <td>23.0</td>\n",
       "      <td>0.0</td>\n",
       "      <td>2.0</td>\n",
       "      <td>17.0</td>\n",
       "      <td>2006</td>\n",
       "      <td>12</td>\n",
       "      <td>16</td>\n",
       "      <td>5</td>\n",
       "      <td>17</td>\n",
       "      <td>26</td>\n",
       "      <td>0</td>\n",
       "    </tr>\n",
       "    <tr>\n",
       "      <th>2006-12-16 17:27:00</th>\n",
       "      <td>5.388</td>\n",
       "      <td>0.502</td>\n",
       "      <td>233.740005</td>\n",
       "      <td>23.0</td>\n",
       "      <td>0.0</td>\n",
       "      <td>1.0</td>\n",
       "      <td>17.0</td>\n",
       "      <td>2006</td>\n",
       "      <td>12</td>\n",
       "      <td>16</td>\n",
       "      <td>5</td>\n",
       "      <td>17</td>\n",
       "      <td>27</td>\n",
       "      <td>0</td>\n",
       "    </tr>\n",
       "    <tr>\n",
       "      <th>2006-12-16 17:28:00</th>\n",
       "      <td>3.666</td>\n",
       "      <td>0.528</td>\n",
       "      <td>235.679993</td>\n",
       "      <td>15.8</td>\n",
       "      <td>0.0</td>\n",
       "      <td>1.0</td>\n",
       "      <td>17.0</td>\n",
       "      <td>2006</td>\n",
       "      <td>12</td>\n",
       "      <td>16</td>\n",
       "      <td>5</td>\n",
       "      <td>17</td>\n",
       "      <td>28</td>\n",
       "      <td>0</td>\n",
       "    </tr>\n",
       "  </tbody>\n",
       "</table>\n",
       "</div>"
      ],
      "text/plain": [
       "                     Global_active_power  Global_reactive_power     Voltage  \\\n",
       "datetime                                                                      \n",
       "2006-12-16 17:24:00                4.216                  0.418  234.839996   \n",
       "2006-12-16 17:25:00                5.360                  0.436  233.630005   \n",
       "2006-12-16 17:26:00                5.374                  0.498  233.289993   \n",
       "2006-12-16 17:27:00                5.388                  0.502  233.740005   \n",
       "2006-12-16 17:28:00                3.666                  0.528  235.679993   \n",
       "\n",
       "                     Global_intensity  Sub_metering_1  Sub_metering_2  \\\n",
       "datetime                                                                \n",
       "2006-12-16 17:24:00              18.4             0.0             1.0   \n",
       "2006-12-16 17:25:00              23.0             0.0             1.0   \n",
       "2006-12-16 17:26:00              23.0             0.0             2.0   \n",
       "2006-12-16 17:27:00              23.0             0.0             1.0   \n",
       "2006-12-16 17:28:00              15.8             0.0             1.0   \n",
       "\n",
       "                     Sub_metering_3  year  month  day  dayofweek  hour  \\\n",
       "datetime                                                                 \n",
       "2006-12-16 17:24:00            17.0  2006     12   16          5    17   \n",
       "2006-12-16 17:25:00            16.0  2006     12   16          5    17   \n",
       "2006-12-16 17:26:00            17.0  2006     12   16          5    17   \n",
       "2006-12-16 17:27:00            17.0  2006     12   16          5    17   \n",
       "2006-12-16 17:28:00            17.0  2006     12   16          5    17   \n",
       "\n",
       "                     minute  second  \n",
       "datetime                             \n",
       "2006-12-16 17:24:00      24       0  \n",
       "2006-12-16 17:25:00      25       0  \n",
       "2006-12-16 17:26:00      26       0  \n",
       "2006-12-16 17:27:00      27       0  \n",
       "2006-12-16 17:28:00      28       0  "
      ]
     },
     "execution_count": 33,
     "metadata": {},
     "output_type": "execute_result"
    }
   ],
   "source": [
    "df.head()"
   ]
  },
  {
   "cell_type": "code",
   "execution_count": 34,
   "id": "08628688-099b-457f-821d-7eac232d24cc",
   "metadata": {},
   "outputs": [],
   "source": [
    "# Create lag features\n",
    "df_lag = df[[\"Global_active_power\"]].copy()\n",
    "df_lag[\"lag_1\"] = df_lag[\"Global_active_power\"].shift(1) # Previous hour\n",
    "df_lag[\"lag_neg1\"] = df_lag[\"Global_active_power\"].shift(-1) # next hour\n",
    "df_lag[\"lag_24\"] = df_lag[\"Global_active_power\"].shift(24) # Same hour, previous day\n",
    "# Difference from previous hour (change over time)\n",
    "df_lag[\"diff_1\"] = df_lag[\"Global_active_power\"].diff(1)"
   ]
  },
  {
   "cell_type": "code",
   "execution_count": 35,
   "id": "963dc19c-b21d-4404-9c83-03e4ea279a3d",
   "metadata": {},
   "outputs": [
    {
     "data": {
      "text/html": [
       "<div>\n",
       "<style scoped>\n",
       "    .dataframe tbody tr th:only-of-type {\n",
       "        vertical-align: middle;\n",
       "    }\n",
       "\n",
       "    .dataframe tbody tr th {\n",
       "        vertical-align: top;\n",
       "    }\n",
       "\n",
       "    .dataframe thead th {\n",
       "        text-align: right;\n",
       "    }\n",
       "</style>\n",
       "<table border=\"1\" class=\"dataframe\">\n",
       "  <thead>\n",
       "    <tr style=\"text-align: right;\">\n",
       "      <th></th>\n",
       "      <th>Global_active_power</th>\n",
       "      <th>lag_1</th>\n",
       "      <th>lag_neg1</th>\n",
       "      <th>lag_24</th>\n",
       "      <th>diff_1</th>\n",
       "    </tr>\n",
       "    <tr>\n",
       "      <th>datetime</th>\n",
       "      <th></th>\n",
       "      <th></th>\n",
       "      <th></th>\n",
       "      <th></th>\n",
       "      <th></th>\n",
       "    </tr>\n",
       "  </thead>\n",
       "  <tbody>\n",
       "    <tr>\n",
       "      <th>2006-12-16 17:24:00</th>\n",
       "      <td>4.216</td>\n",
       "      <td>NaN</td>\n",
       "      <td>5.360</td>\n",
       "      <td>NaN</td>\n",
       "      <td>NaN</td>\n",
       "    </tr>\n",
       "    <tr>\n",
       "      <th>2006-12-16 17:25:00</th>\n",
       "      <td>5.360</td>\n",
       "      <td>4.216</td>\n",
       "      <td>5.374</td>\n",
       "      <td>NaN</td>\n",
       "      <td>1.144</td>\n",
       "    </tr>\n",
       "    <tr>\n",
       "      <th>2006-12-16 17:26:00</th>\n",
       "      <td>5.374</td>\n",
       "      <td>5.360</td>\n",
       "      <td>5.388</td>\n",
       "      <td>NaN</td>\n",
       "      <td>0.014</td>\n",
       "    </tr>\n",
       "    <tr>\n",
       "      <th>2006-12-16 17:27:00</th>\n",
       "      <td>5.388</td>\n",
       "      <td>5.374</td>\n",
       "      <td>3.666</td>\n",
       "      <td>NaN</td>\n",
       "      <td>0.014</td>\n",
       "    </tr>\n",
       "    <tr>\n",
       "      <th>2006-12-16 17:28:00</th>\n",
       "      <td>3.666</td>\n",
       "      <td>5.388</td>\n",
       "      <td>3.520</td>\n",
       "      <td>NaN</td>\n",
       "      <td>-1.722</td>\n",
       "    </tr>\n",
       "    <tr>\n",
       "      <th>2006-12-16 17:29:00</th>\n",
       "      <td>3.520</td>\n",
       "      <td>3.666</td>\n",
       "      <td>3.702</td>\n",
       "      <td>NaN</td>\n",
       "      <td>-0.146</td>\n",
       "    </tr>\n",
       "    <tr>\n",
       "      <th>2006-12-16 17:30:00</th>\n",
       "      <td>3.702</td>\n",
       "      <td>3.520</td>\n",
       "      <td>3.700</td>\n",
       "      <td>NaN</td>\n",
       "      <td>0.182</td>\n",
       "    </tr>\n",
       "    <tr>\n",
       "      <th>2006-12-16 17:31:00</th>\n",
       "      <td>3.700</td>\n",
       "      <td>3.702</td>\n",
       "      <td>3.668</td>\n",
       "      <td>NaN</td>\n",
       "      <td>-0.002</td>\n",
       "    </tr>\n",
       "    <tr>\n",
       "      <th>2006-12-16 17:32:00</th>\n",
       "      <td>3.668</td>\n",
       "      <td>3.700</td>\n",
       "      <td>3.662</td>\n",
       "      <td>NaN</td>\n",
       "      <td>-0.032</td>\n",
       "    </tr>\n",
       "    <tr>\n",
       "      <th>2006-12-16 17:33:00</th>\n",
       "      <td>3.662</td>\n",
       "      <td>3.668</td>\n",
       "      <td>4.448</td>\n",
       "      <td>NaN</td>\n",
       "      <td>-0.006</td>\n",
       "    </tr>\n",
       "    <tr>\n",
       "      <th>2006-12-16 17:34:00</th>\n",
       "      <td>4.448</td>\n",
       "      <td>3.662</td>\n",
       "      <td>5.412</td>\n",
       "      <td>NaN</td>\n",
       "      <td>0.786</td>\n",
       "    </tr>\n",
       "    <tr>\n",
       "      <th>2006-12-16 17:35:00</th>\n",
       "      <td>5.412</td>\n",
       "      <td>4.448</td>\n",
       "      <td>5.224</td>\n",
       "      <td>NaN</td>\n",
       "      <td>0.964</td>\n",
       "    </tr>\n",
       "    <tr>\n",
       "      <th>2006-12-16 17:36:00</th>\n",
       "      <td>5.224</td>\n",
       "      <td>5.412</td>\n",
       "      <td>5.268</td>\n",
       "      <td>NaN</td>\n",
       "      <td>-0.188</td>\n",
       "    </tr>\n",
       "    <tr>\n",
       "      <th>2006-12-16 17:37:00</th>\n",
       "      <td>5.268</td>\n",
       "      <td>5.224</td>\n",
       "      <td>4.054</td>\n",
       "      <td>NaN</td>\n",
       "      <td>0.044</td>\n",
       "    </tr>\n",
       "    <tr>\n",
       "      <th>2006-12-16 17:38:00</th>\n",
       "      <td>4.054</td>\n",
       "      <td>5.268</td>\n",
       "      <td>3.384</td>\n",
       "      <td>NaN</td>\n",
       "      <td>-1.214</td>\n",
       "    </tr>\n",
       "    <tr>\n",
       "      <th>2006-12-16 17:39:00</th>\n",
       "      <td>3.384</td>\n",
       "      <td>4.054</td>\n",
       "      <td>3.270</td>\n",
       "      <td>NaN</td>\n",
       "      <td>-0.670</td>\n",
       "    </tr>\n",
       "    <tr>\n",
       "      <th>2006-12-16 17:40:00</th>\n",
       "      <td>3.270</td>\n",
       "      <td>3.384</td>\n",
       "      <td>3.430</td>\n",
       "      <td>NaN</td>\n",
       "      <td>-0.114</td>\n",
       "    </tr>\n",
       "    <tr>\n",
       "      <th>2006-12-16 17:41:00</th>\n",
       "      <td>3.430</td>\n",
       "      <td>3.270</td>\n",
       "      <td>3.266</td>\n",
       "      <td>NaN</td>\n",
       "      <td>0.160</td>\n",
       "    </tr>\n",
       "    <tr>\n",
       "      <th>2006-12-16 17:42:00</th>\n",
       "      <td>3.266</td>\n",
       "      <td>3.430</td>\n",
       "      <td>3.728</td>\n",
       "      <td>NaN</td>\n",
       "      <td>-0.164</td>\n",
       "    </tr>\n",
       "    <tr>\n",
       "      <th>2006-12-16 17:43:00</th>\n",
       "      <td>3.728</td>\n",
       "      <td>3.266</td>\n",
       "      <td>5.894</td>\n",
       "      <td>NaN</td>\n",
       "      <td>0.462</td>\n",
       "    </tr>\n",
       "    <tr>\n",
       "      <th>2006-12-16 17:44:00</th>\n",
       "      <td>5.894</td>\n",
       "      <td>3.728</td>\n",
       "      <td>7.706</td>\n",
       "      <td>NaN</td>\n",
       "      <td>2.166</td>\n",
       "    </tr>\n",
       "    <tr>\n",
       "      <th>2006-12-16 17:45:00</th>\n",
       "      <td>7.706</td>\n",
       "      <td>5.894</td>\n",
       "      <td>7.026</td>\n",
       "      <td>NaN</td>\n",
       "      <td>1.812</td>\n",
       "    </tr>\n",
       "    <tr>\n",
       "      <th>2006-12-16 17:46:00</th>\n",
       "      <td>7.026</td>\n",
       "      <td>7.706</td>\n",
       "      <td>5.174</td>\n",
       "      <td>NaN</td>\n",
       "      <td>-0.680</td>\n",
       "    </tr>\n",
       "    <tr>\n",
       "      <th>2006-12-16 17:47:00</th>\n",
       "      <td>5.174</td>\n",
       "      <td>7.026</td>\n",
       "      <td>4.474</td>\n",
       "      <td>NaN</td>\n",
       "      <td>-1.852</td>\n",
       "    </tr>\n",
       "    <tr>\n",
       "      <th>2006-12-16 17:48:00</th>\n",
       "      <td>4.474</td>\n",
       "      <td>5.174</td>\n",
       "      <td>3.248</td>\n",
       "      <td>4.216</td>\n",
       "      <td>-0.700</td>\n",
       "    </tr>\n",
       "    <tr>\n",
       "      <th>2006-12-16 17:49:00</th>\n",
       "      <td>3.248</td>\n",
       "      <td>4.474</td>\n",
       "      <td>3.236</td>\n",
       "      <td>5.360</td>\n",
       "      <td>-1.226</td>\n",
       "    </tr>\n",
       "    <tr>\n",
       "      <th>2006-12-16 17:50:00</th>\n",
       "      <td>3.236</td>\n",
       "      <td>3.248</td>\n",
       "      <td>3.228</td>\n",
       "      <td>5.374</td>\n",
       "      <td>-0.012</td>\n",
       "    </tr>\n",
       "    <tr>\n",
       "      <th>2006-12-16 17:51:00</th>\n",
       "      <td>3.228</td>\n",
       "      <td>3.236</td>\n",
       "      <td>3.258</td>\n",
       "      <td>5.388</td>\n",
       "      <td>-0.008</td>\n",
       "    </tr>\n",
       "    <tr>\n",
       "      <th>2006-12-16 17:52:00</th>\n",
       "      <td>3.258</td>\n",
       "      <td>3.228</td>\n",
       "      <td>3.178</td>\n",
       "      <td>3.666</td>\n",
       "      <td>0.030</td>\n",
       "    </tr>\n",
       "    <tr>\n",
       "      <th>2006-12-16 17:53:00</th>\n",
       "      <td>3.178</td>\n",
       "      <td>3.258</td>\n",
       "      <td>2.720</td>\n",
       "      <td>3.520</td>\n",
       "      <td>-0.080</td>\n",
       "    </tr>\n",
       "  </tbody>\n",
       "</table>\n",
       "</div>"
      ],
      "text/plain": [
       "                     Global_active_power  lag_1  lag_neg1  lag_24  diff_1\n",
       "datetime                                                                 \n",
       "2006-12-16 17:24:00                4.216    NaN     5.360     NaN     NaN\n",
       "2006-12-16 17:25:00                5.360  4.216     5.374     NaN   1.144\n",
       "2006-12-16 17:26:00                5.374  5.360     5.388     NaN   0.014\n",
       "2006-12-16 17:27:00                5.388  5.374     3.666     NaN   0.014\n",
       "2006-12-16 17:28:00                3.666  5.388     3.520     NaN  -1.722\n",
       "2006-12-16 17:29:00                3.520  3.666     3.702     NaN  -0.146\n",
       "2006-12-16 17:30:00                3.702  3.520     3.700     NaN   0.182\n",
       "2006-12-16 17:31:00                3.700  3.702     3.668     NaN  -0.002\n",
       "2006-12-16 17:32:00                3.668  3.700     3.662     NaN  -0.032\n",
       "2006-12-16 17:33:00                3.662  3.668     4.448     NaN  -0.006\n",
       "2006-12-16 17:34:00                4.448  3.662     5.412     NaN   0.786\n",
       "2006-12-16 17:35:00                5.412  4.448     5.224     NaN   0.964\n",
       "2006-12-16 17:36:00                5.224  5.412     5.268     NaN  -0.188\n",
       "2006-12-16 17:37:00                5.268  5.224     4.054     NaN   0.044\n",
       "2006-12-16 17:38:00                4.054  5.268     3.384     NaN  -1.214\n",
       "2006-12-16 17:39:00                3.384  4.054     3.270     NaN  -0.670\n",
       "2006-12-16 17:40:00                3.270  3.384     3.430     NaN  -0.114\n",
       "2006-12-16 17:41:00                3.430  3.270     3.266     NaN   0.160\n",
       "2006-12-16 17:42:00                3.266  3.430     3.728     NaN  -0.164\n",
       "2006-12-16 17:43:00                3.728  3.266     5.894     NaN   0.462\n",
       "2006-12-16 17:44:00                5.894  3.728     7.706     NaN   2.166\n",
       "2006-12-16 17:45:00                7.706  5.894     7.026     NaN   1.812\n",
       "2006-12-16 17:46:00                7.026  7.706     5.174     NaN  -0.680\n",
       "2006-12-16 17:47:00                5.174  7.026     4.474     NaN  -1.852\n",
       "2006-12-16 17:48:00                4.474  5.174     3.248   4.216  -0.700\n",
       "2006-12-16 17:49:00                3.248  4.474     3.236   5.360  -1.226\n",
       "2006-12-16 17:50:00                3.236  3.248     3.228   5.374  -0.012\n",
       "2006-12-16 17:51:00                3.228  3.236     3.258   5.388  -0.008\n",
       "2006-12-16 17:52:00                3.258  3.228     3.178   3.666   0.030\n",
       "2006-12-16 17:53:00                3.178  3.258     2.720   3.520  -0.080"
      ]
     },
     "execution_count": 35,
     "metadata": {},
     "output_type": "execute_result"
    }
   ],
   "source": [
    "df_lag[:30]"
   ]
  },
  {
   "cell_type": "code",
   "execution_count": 37,
   "id": "27220b7c-1c1f-4c06-ad40-9163f293eaa6",
   "metadata": {},
   "outputs": [
    {
     "data": {
      "text/html": [
       "<div>\n",
       "<style scoped>\n",
       "    .dataframe tbody tr th:only-of-type {\n",
       "        vertical-align: middle;\n",
       "    }\n",
       "\n",
       "    .dataframe tbody tr th {\n",
       "        vertical-align: top;\n",
       "    }\n",
       "\n",
       "    .dataframe thead th {\n",
       "        text-align: right;\n",
       "    }\n",
       "</style>\n",
       "<table border=\"1\" class=\"dataframe\">\n",
       "  <thead>\n",
       "    <tr style=\"text-align: right;\">\n",
       "      <th></th>\n",
       "      <th>Global_active_power</th>\n",
       "      <th>rolling_mean_3</th>\n",
       "      <th>rolling_sum_3</th>\n",
       "      <th>rolling_std_3</th>\n",
       "      <th>rolling_max_3</th>\n",
       "    </tr>\n",
       "    <tr>\n",
       "      <th>datetime</th>\n",
       "      <th></th>\n",
       "      <th></th>\n",
       "      <th></th>\n",
       "      <th></th>\n",
       "      <th></th>\n",
       "    </tr>\n",
       "  </thead>\n",
       "  <tbody>\n",
       "    <tr>\n",
       "      <th>2006-12-31</th>\n",
       "      <td>1.901295</td>\n",
       "      <td>NaN</td>\n",
       "      <td>NaN</td>\n",
       "      <td>NaN</td>\n",
       "      <td>NaN</td>\n",
       "    </tr>\n",
       "    <tr>\n",
       "      <th>2007-12-31</th>\n",
       "      <td>1.117007</td>\n",
       "      <td>NaN</td>\n",
       "      <td>NaN</td>\n",
       "      <td>NaN</td>\n",
       "      <td>NaN</td>\n",
       "    </tr>\n",
       "    <tr>\n",
       "      <th>2008-12-31</th>\n",
       "      <td>1.072097</td>\n",
       "      <td>1.363466</td>\n",
       "      <td>4.090399</td>\n",
       "      <td>0.466314</td>\n",
       "      <td>1.901295</td>\n",
       "    </tr>\n",
       "    <tr>\n",
       "      <th>2009-12-31</th>\n",
       "      <td>1.078637</td>\n",
       "      <td>1.089247</td>\n",
       "      <td>3.267741</td>\n",
       "      <td>0.024263</td>\n",
       "      <td>1.117007</td>\n",
       "    </tr>\n",
       "    <tr>\n",
       "      <th>2010-12-31</th>\n",
       "      <td>1.061000</td>\n",
       "      <td>1.070578</td>\n",
       "      <td>3.211734</td>\n",
       "      <td>0.008916</td>\n",
       "      <td>1.078637</td>\n",
       "    </tr>\n",
       "  </tbody>\n",
       "</table>\n",
       "</div>"
      ],
      "text/plain": [
       "            Global_active_power  rolling_mean_3  rolling_sum_3  rolling_std_3  \\\n",
       "datetime                                                                        \n",
       "2006-12-31             1.901295             NaN            NaN            NaN   \n",
       "2007-12-31             1.117007             NaN            NaN            NaN   \n",
       "2008-12-31             1.072097        1.363466       4.090399       0.466314   \n",
       "2009-12-31             1.078637        1.089247       3.267741       0.024263   \n",
       "2010-12-31             1.061000        1.070578       3.211734       0.008916   \n",
       "\n",
       "            rolling_max_3  \n",
       "datetime                   \n",
       "2006-12-31            NaN  \n",
       "2007-12-31            NaN  \n",
       "2008-12-31       1.901295  \n",
       "2009-12-31       1.117007  \n",
       "2010-12-31       1.078637  "
      ]
     },
     "execution_count": 37,
     "metadata": {},
     "output_type": "execute_result"
    }
   ],
   "source": [
    "# Rolling windows and moving average\n",
    "df_yearly[\"rolling_mean_3\"] = df_yearly[\"Global_active_power\"].rolling(window=3).mean()\n",
    "df_yearly[\"rolling_sum_3\"] = df_yearly[\"Global_active_power\"].rolling(window=3).sum()\n",
    "df_yearly[\"rolling_std_3\"] = df_yearly[\"Global_active_power\"].rolling(window=3).std()\n",
    "df_yearly[\"rolling_max_3\"] = df_yearly[\"Global_active_power\"].rolling(window=3).max()\n",
    "df_yearly[[\"Global_active_power\", \"rolling_mean_3\", \"rolling_sum_3\", \"rolling_std_3\", \"rolling_max_3\"]]"
   ]
  },
  {
   "cell_type": "markdown",
   "id": "e7317d27-e375-4d1b-8f40-f2dec54291d9",
   "metadata": {},
   "source": [
    "### Period & PeriodIndex  \n",
    "What it does:  \n",
    "Treats time as a period (like a calendar month, quarter, etc.), not an exact timestamp.  \n",
    "Helpful for financial or economic time series.  "
   ]
  },
  {
   "cell_type": "code",
   "execution_count": 38,
   "id": "c3c13922-3a42-4d64-b6bd-fddcbe9c6d41",
   "metadata": {},
   "outputs": [
    {
     "data": {
      "text/plain": [
       "(Timestamp('2024-01-01 00:00:00'), Timestamp('2024-01-31 23:59:59.999999999'))"
      ]
     },
     "execution_count": 38,
     "metadata": {},
     "output_type": "execute_result"
    }
   ],
   "source": [
    "p = pd.Period('2024-01', freq='M') # we can set yearly(Y), Daily(D), Hourly(H), Quaterly(Q) etc. frequencies\n",
    "p.start_time, p.end_time"
   ]
  },
  {
   "cell_type": "code",
   "execution_count": 39,
   "id": "18a69ed7-3973-4355-8309-c61a64a971c0",
   "metadata": {},
   "outputs": [
    {
     "data": {
      "text/plain": [
       "['__add__',\n",
       " '__array_priority__',\n",
       " '__class__',\n",
       " '__delattr__',\n",
       " '__dict__',\n",
       " '__dir__',\n",
       " '__doc__',\n",
       " '__eq__',\n",
       " '__format__',\n",
       " '__ge__',\n",
       " '__getattribute__',\n",
       " '__gt__',\n",
       " '__hash__',\n",
       " '__init__',\n",
       " '__init_subclass__',\n",
       " '__le__',\n",
       " '__lt__',\n",
       " '__module__',\n",
       " '__ne__',\n",
       " '__new__',\n",
       " '__radd__',\n",
       " '__reduce__',\n",
       " '__reduce_cython__',\n",
       " '__reduce_ex__',\n",
       " '__repr__',\n",
       " '__rsub__',\n",
       " '__setattr__',\n",
       " '__setstate__',\n",
       " '__setstate_cython__',\n",
       " '__sizeof__',\n",
       " '__str__',\n",
       " '__sub__',\n",
       " '__subclasshook__',\n",
       " '__weakref__',\n",
       " '_add_offset',\n",
       " '_add_timedeltalike_scalar',\n",
       " '_dtype',\n",
       " '_from_ordinal',\n",
       " '_maybe_convert_freq',\n",
       " '_require_matching_freq',\n",
       " 'asfreq',\n",
       " 'day',\n",
       " 'day_of_week',\n",
       " 'day_of_year',\n",
       " 'dayofweek',\n",
       " 'dayofyear',\n",
       " 'days_in_month',\n",
       " 'daysinmonth',\n",
       " 'end_time',\n",
       " 'freq',\n",
       " 'freqstr',\n",
       " 'hour',\n",
       " 'is_leap_year',\n",
       " 'minute',\n",
       " 'month',\n",
       " 'now',\n",
       " 'ordinal',\n",
       " 'quarter',\n",
       " 'qyear',\n",
       " 'second',\n",
       " 'start_time',\n",
       " 'strftime',\n",
       " 'to_timestamp',\n",
       " 'week',\n",
       " 'weekday',\n",
       " 'weekofyear',\n",
       " 'year']"
      ]
     },
     "execution_count": 39,
     "metadata": {},
     "output_type": "execute_result"
    }
   ],
   "source": [
    "dir(p)"
   ]
  },
  {
   "cell_type": "code",
   "execution_count": 40,
   "id": "650e6215-af54-4378-a0b1-9d9ee43bdf02",
   "metadata": {},
   "outputs": [
    {
     "data": {
      "text/plain": [
       "(Timestamp('2024-01-01 00:00:00'), Timestamp('2024-03-31 23:59:59.999999999'))"
      ]
     },
     "execution_count": 40,
     "metadata": {},
     "output_type": "execute_result"
    }
   ],
   "source": [
    "p = pd.Period('2024Q1') # default frequency Q-DEC\n",
    "p.start_time, p.end_time"
   ]
  },
  {
   "cell_type": "code",
   "execution_count": 41,
   "id": "07ea8d3d-c0d2-41c4-b6ec-ae46aec97fd3",
   "metadata": {},
   "outputs": [
    {
     "data": {
      "text/plain": [
       "(Timestamp('2023-02-01 00:00:00'), Timestamp('2023-04-30 23:59:59.999999999'))"
      ]
     },
     "execution_count": 41,
     "metadata": {},
     "output_type": "execute_result"
    }
   ],
   "source": [
    "p = pd.Period('2024Q1', freq='Q-JAN') # ending last fiscal year in this Jan(different from calender year). So 2023 year\n",
    "p.start_time, p.end_time"
   ]
  },
  {
   "cell_type": "code",
   "execution_count": 42,
   "id": "e08f083c-6380-42ee-a94d-5572370dffbc",
   "metadata": {},
   "outputs": [
    {
     "data": {
      "text/plain": [
       "(Timestamp('2023-05-01 00:00:00'), Timestamp('2023-07-31 23:59:59.999999999'))"
      ]
     },
     "execution_count": 42,
     "metadata": {},
     "output_type": "execute_result"
    }
   ],
   "source": [
    "p = pd.Period('2024Q2', freq='Q-JAN') # ending last fiscal year in this Jan(different from calender year)\n",
    "p.start_time, p.end_time"
   ]
  },
  {
   "cell_type": "code",
   "execution_count": 43,
   "id": "8a42315d-2bdb-4a2a-bbd1-653becc21676",
   "metadata": {},
   "outputs": [
    {
     "data": {
      "text/plain": [
       "(Timestamp('2023-05-01 00:00:00'), Timestamp('2023-07-31 23:59:59.999999999'))"
      ]
     },
     "execution_count": 43,
     "metadata": {},
     "output_type": "execute_result"
    }
   ],
   "source": [
    "p.asfreq('Y') # converting to yearly frequency\n",
    "p.start_time, p.end_time"
   ]
  },
  {
   "cell_type": "code",
   "execution_count": 44,
   "id": "f3414a4e-74f5-46e6-9540-52278bef9e2c",
   "metadata": {},
   "outputs": [
    {
     "data": {
      "text/plain": [
       "(Timestamp('2023-02-01 00:00:00'),\n",
       " Timestamp('2023-04-30 23:59:59.999999999'),\n",
       " Timestamp('2024-05-01 00:00:00'),\n",
       " Timestamp('2024-07-31 23:59:59.999999999'))"
      ]
     },
     "execution_count": 44,
     "metadata": {},
     "output_type": "execute_result"
    }
   ],
   "source": [
    "# Applying mathematical operations on periods (only possible on matching frequencies)\n",
    "p1 = pd.Period('2024Q1', freq='Q-JAN') # from year 2023\n",
    "p2 = pd.Period('2025Q2', freq='Q-JAN') # from year 2024\n",
    "p1.start_time, p1.end_time, p2.start_time, p2.end_time "
   ]
  },
  {
   "cell_type": "code",
   "execution_count": 45,
   "id": "4da161ea-482e-4b85-b802-002524a87977",
   "metadata": {},
   "outputs": [
    {
     "data": {
      "text/plain": [
       "<5 * QuarterEnds: startingMonth=1>"
      ]
     },
     "execution_count": 45,
     "metadata": {},
     "output_type": "execute_result"
    }
   ],
   "source": [
    "p2-p1"
   ]
  },
  {
   "cell_type": "code",
   "execution_count": 46,
   "id": "4b3e391b-8926-4eef-abfd-9e4eec90217e",
   "metadata": {},
   "outputs": [
    {
     "data": {
      "text/plain": [
       "PeriodIndex(['2024-01', '2024-02', '2024-03', '2024-04', '2024-05', '2024-06',\n",
       "             '2024-07', '2024-08', '2024-09', '2024-10', '2024-11', '2024-12',\n",
       "             '2025-01', '2025-02', '2025-03'],\n",
       "            dtype='period[M]')"
      ]
     },
     "execution_count": 46,
     "metadata": {},
     "output_type": "execute_result"
    }
   ],
   "source": [
    "# PeriodIndex\n",
    "periods = pd.period_range(start='2024-01', end='2025-03', freq='M')\n",
    "#or\n",
    "# periods = pd.period_range(start='2024-01', periods=15, freq='M')\n",
    "periods"
   ]
  },
  {
   "cell_type": "code",
   "execution_count": 47,
   "id": "365e4a62-9164-4833-9b48-35056072ad40",
   "metadata": {},
   "outputs": [
    {
     "data": {
      "text/plain": [
       "array([253, 161, 219, 147, 215, 275, 243, 207, 181, 201, 293, 226, 238,\n",
       "       207, 154], dtype=int32)"
      ]
     },
     "execution_count": 47,
     "metadata": {},
     "output_type": "execute_result"
    }
   ],
   "source": [
    "data = np.random.randint(100, 300, size=len(periods))\n",
    "data"
   ]
  },
  {
   "cell_type": "code",
   "execution_count": 48,
   "id": "3a76ed2c-1df0-4b1c-a61f-3d040fee55e0",
   "metadata": {},
   "outputs": [
    {
     "data": {
      "text/html": [
       "<div>\n",
       "<style scoped>\n",
       "    .dataframe tbody tr th:only-of-type {\n",
       "        vertical-align: middle;\n",
       "    }\n",
       "\n",
       "    .dataframe tbody tr th {\n",
       "        vertical-align: top;\n",
       "    }\n",
       "\n",
       "    .dataframe thead th {\n",
       "        text-align: right;\n",
       "    }\n",
       "</style>\n",
       "<table border=\"1\" class=\"dataframe\">\n",
       "  <thead>\n",
       "    <tr style=\"text-align: right;\">\n",
       "      <th></th>\n",
       "      <th>data</th>\n",
       "    </tr>\n",
       "  </thead>\n",
       "  <tbody>\n",
       "    <tr>\n",
       "      <th>2024-01</th>\n",
       "      <td>253</td>\n",
       "    </tr>\n",
       "    <tr>\n",
       "      <th>2024-02</th>\n",
       "      <td>161</td>\n",
       "    </tr>\n",
       "    <tr>\n",
       "      <th>2024-03</th>\n",
       "      <td>219</td>\n",
       "    </tr>\n",
       "    <tr>\n",
       "      <th>2024-04</th>\n",
       "      <td>147</td>\n",
       "    </tr>\n",
       "    <tr>\n",
       "      <th>2024-05</th>\n",
       "      <td>215</td>\n",
       "    </tr>\n",
       "    <tr>\n",
       "      <th>2024-06</th>\n",
       "      <td>275</td>\n",
       "    </tr>\n",
       "    <tr>\n",
       "      <th>2024-07</th>\n",
       "      <td>243</td>\n",
       "    </tr>\n",
       "    <tr>\n",
       "      <th>2024-08</th>\n",
       "      <td>207</td>\n",
       "    </tr>\n",
       "    <tr>\n",
       "      <th>2024-09</th>\n",
       "      <td>181</td>\n",
       "    </tr>\n",
       "    <tr>\n",
       "      <th>2024-10</th>\n",
       "      <td>201</td>\n",
       "    </tr>\n",
       "    <tr>\n",
       "      <th>2024-11</th>\n",
       "      <td>293</td>\n",
       "    </tr>\n",
       "    <tr>\n",
       "      <th>2024-12</th>\n",
       "      <td>226</td>\n",
       "    </tr>\n",
       "    <tr>\n",
       "      <th>2025-01</th>\n",
       "      <td>238</td>\n",
       "    </tr>\n",
       "    <tr>\n",
       "      <th>2025-02</th>\n",
       "      <td>207</td>\n",
       "    </tr>\n",
       "    <tr>\n",
       "      <th>2025-03</th>\n",
       "      <td>154</td>\n",
       "    </tr>\n",
       "  </tbody>\n",
       "</table>\n",
       "</div>"
      ],
      "text/plain": [
       "         data\n",
       "2024-01   253\n",
       "2024-02   161\n",
       "2024-03   219\n",
       "2024-04   147\n",
       "2024-05   215\n",
       "2024-06   275\n",
       "2024-07   243\n",
       "2024-08   207\n",
       "2024-09   181\n",
       "2024-10   201\n",
       "2024-11   293\n",
       "2024-12   226\n",
       "2025-01   238\n",
       "2025-02   207\n",
       "2025-03   154"
      ]
     },
     "execution_count": 48,
     "metadata": {},
     "output_type": "execute_result"
    }
   ],
   "source": [
    "# Create Period-based DataFrame\n",
    "df = pd.DataFrame({'data': data}, index=periods)\n",
    "df"
   ]
  },
  {
   "cell_type": "markdown",
   "id": "09261306-03ba-48b5-b548-6a1d8b50b5b6",
   "metadata": {},
   "source": [
    "### Timezone  \n",
    "Goal: Convert time series between timezones (e.g., UTC → local time)."
   ]
  },
  {
   "cell_type": "code",
   "execution_count": 49,
   "id": "cea9b273-6758-46ea-a24b-93a6e332a0a3",
   "metadata": {},
   "outputs": [
    {
     "data": {
      "text/plain": [
       "['Africa/Abidjan', 'Africa/Accra', 'Africa/Addis_Ababa', 'Africa/Algiers', 'Africa/Asmara', 'Africa/Asmera', 'Africa/Bamako', 'Africa/Bangui', 'Africa/Banjul', 'Africa/Bissau', 'Africa/Blantyre', 'Africa/Brazzaville', 'Africa/Bujumbura', 'Africa/Cairo', 'Africa/Casablanca', 'Africa/Ceuta', 'Africa/Conakry', 'Africa/Dakar', 'Africa/Dar_es_Salaam', 'Africa/Djibouti', 'Africa/Douala', 'Africa/El_Aaiun', 'Africa/Freetown', 'Africa/Gaborone', 'Africa/Harare', 'Africa/Johannesburg', 'Africa/Juba', 'Africa/Kampala', 'Africa/Khartoum', 'Africa/Kigali', 'Africa/Kinshasa', 'Africa/Lagos', 'Africa/Libreville', 'Africa/Lome', 'Africa/Luanda', 'Africa/Lubumbashi', 'Africa/Lusaka', 'Africa/Malabo', 'Africa/Maputo', 'Africa/Maseru', 'Africa/Mbabane', 'Africa/Mogadishu', 'Africa/Monrovia', 'Africa/Nairobi', 'Africa/Ndjamena', 'Africa/Niamey', 'Africa/Nouakchott', 'Africa/Ouagadougou', 'Africa/Porto-Novo', 'Africa/Sao_Tome', 'Africa/Timbuktu', 'Africa/Tripoli', 'Africa/Tunis', 'Africa/Windhoek', 'America/Adak', 'America/Anchorage', 'America/Anguilla', 'America/Antigua', 'America/Araguaina', 'America/Argentina/Buenos_Aires', 'America/Argentina/Catamarca', 'America/Argentina/ComodRivadavia', 'America/Argentina/Cordoba', 'America/Argentina/Jujuy', 'America/Argentina/La_Rioja', 'America/Argentina/Mendoza', 'America/Argentina/Rio_Gallegos', 'America/Argentina/Salta', 'America/Argentina/San_Juan', 'America/Argentina/San_Luis', 'America/Argentina/Tucuman', 'America/Argentina/Ushuaia', 'America/Aruba', 'America/Asuncion', 'America/Atikokan', 'America/Atka', 'America/Bahia', 'America/Bahia_Banderas', 'America/Barbados', 'America/Belem', 'America/Belize', 'America/Blanc-Sablon', 'America/Boa_Vista', 'America/Bogota', 'America/Boise', 'America/Buenos_Aires', 'America/Cambridge_Bay', 'America/Campo_Grande', 'America/Cancun', 'America/Caracas', 'America/Catamarca', 'America/Cayenne', 'America/Cayman', 'America/Chicago', 'America/Chihuahua', 'America/Ciudad_Juarez', 'America/Coral_Harbour', 'America/Cordoba', 'America/Costa_Rica', 'America/Creston', 'America/Cuiaba', 'America/Curacao', 'America/Danmarkshavn', 'America/Dawson', 'America/Dawson_Creek', 'America/Denver', 'America/Detroit', 'America/Dominica', 'America/Edmonton', 'America/Eirunepe', 'America/El_Salvador', 'America/Ensenada', 'America/Fort_Nelson', 'America/Fort_Wayne', 'America/Fortaleza', 'America/Glace_Bay', 'America/Godthab', 'America/Goose_Bay', 'America/Grand_Turk', 'America/Grenada', 'America/Guadeloupe', 'America/Guatemala', 'America/Guayaquil', 'America/Guyana', 'America/Halifax', 'America/Havana', 'America/Hermosillo', 'America/Indiana/Indianapolis', 'America/Indiana/Knox', 'America/Indiana/Marengo', 'America/Indiana/Petersburg', 'America/Indiana/Tell_City', 'America/Indiana/Vevay', 'America/Indiana/Vincennes', 'America/Indiana/Winamac', 'America/Indianapolis', 'America/Inuvik', 'America/Iqaluit', 'America/Jamaica', 'America/Jujuy', 'America/Juneau', 'America/Kentucky/Louisville', 'America/Kentucky/Monticello', 'America/Knox_IN', 'America/Kralendijk', 'America/La_Paz', 'America/Lima', 'America/Los_Angeles', 'America/Louisville', 'America/Lower_Princes', 'America/Maceio', 'America/Managua', 'America/Manaus', 'America/Marigot', 'America/Martinique', 'America/Matamoros', 'America/Mazatlan', 'America/Mendoza', 'America/Menominee', 'America/Merida', 'America/Metlakatla', 'America/Mexico_City', 'America/Miquelon', 'America/Moncton', 'America/Monterrey', 'America/Montevideo', 'America/Montreal', 'America/Montserrat', 'America/Nassau', 'America/New_York', 'America/Nipigon', 'America/Nome', 'America/Noronha', 'America/North_Dakota/Beulah', 'America/North_Dakota/Center', 'America/North_Dakota/New_Salem', 'America/Nuuk', 'America/Ojinaga', 'America/Panama', 'America/Pangnirtung', 'America/Paramaribo', 'America/Phoenix', 'America/Port-au-Prince', 'America/Port_of_Spain', 'America/Porto_Acre', 'America/Porto_Velho', 'America/Puerto_Rico', 'America/Punta_Arenas', 'America/Rainy_River', 'America/Rankin_Inlet', 'America/Recife', 'America/Regina', 'America/Resolute', 'America/Rio_Branco', 'America/Rosario', 'America/Santa_Isabel', 'America/Santarem', 'America/Santiago', 'America/Santo_Domingo', 'America/Sao_Paulo', 'America/Scoresbysund', 'America/Shiprock', 'America/Sitka', 'America/St_Barthelemy', 'America/St_Johns', 'America/St_Kitts', 'America/St_Lucia', 'America/St_Thomas', 'America/St_Vincent', 'America/Swift_Current', 'America/Tegucigalpa', 'America/Thule', 'America/Thunder_Bay', 'America/Tijuana', 'America/Toronto', 'America/Tortola', 'America/Vancouver', 'America/Virgin', 'America/Whitehorse', 'America/Winnipeg', 'America/Yakutat', 'America/Yellowknife', 'Antarctica/Casey', 'Antarctica/Davis', 'Antarctica/DumontDUrville', 'Antarctica/Macquarie', 'Antarctica/Mawson', 'Antarctica/McMurdo', 'Antarctica/Palmer', 'Antarctica/Rothera', 'Antarctica/South_Pole', 'Antarctica/Syowa', 'Antarctica/Troll', 'Antarctica/Vostok', 'Arctic/Longyearbyen', 'Asia/Aden', 'Asia/Almaty', 'Asia/Amman', 'Asia/Anadyr', 'Asia/Aqtau', 'Asia/Aqtobe', 'Asia/Ashgabat', 'Asia/Ashkhabad', 'Asia/Atyrau', 'Asia/Baghdad', 'Asia/Bahrain', 'Asia/Baku', 'Asia/Bangkok', 'Asia/Barnaul', 'Asia/Beirut', 'Asia/Bishkek', 'Asia/Brunei', 'Asia/Calcutta', 'Asia/Chita', 'Asia/Choibalsan', 'Asia/Chongqing', 'Asia/Chungking', 'Asia/Colombo', 'Asia/Dacca', 'Asia/Damascus', 'Asia/Dhaka', 'Asia/Dili', 'Asia/Dubai', 'Asia/Dushanbe', 'Asia/Famagusta', 'Asia/Gaza', 'Asia/Harbin', 'Asia/Hebron', 'Asia/Ho_Chi_Minh', 'Asia/Hong_Kong', 'Asia/Hovd', 'Asia/Irkutsk', 'Asia/Istanbul', 'Asia/Jakarta', 'Asia/Jayapura', 'Asia/Jerusalem', 'Asia/Kabul', 'Asia/Kamchatka', 'Asia/Karachi', 'Asia/Kashgar', 'Asia/Kathmandu', 'Asia/Katmandu', 'Asia/Khandyga', 'Asia/Kolkata', 'Asia/Krasnoyarsk', 'Asia/Kuala_Lumpur', 'Asia/Kuching', 'Asia/Kuwait', 'Asia/Macao', 'Asia/Macau', 'Asia/Magadan', 'Asia/Makassar', 'Asia/Manila', 'Asia/Muscat', 'Asia/Nicosia', 'Asia/Novokuznetsk', 'Asia/Novosibirsk', 'Asia/Omsk', 'Asia/Oral', 'Asia/Phnom_Penh', 'Asia/Pontianak', 'Asia/Pyongyang', 'Asia/Qatar', 'Asia/Qostanay', 'Asia/Qyzylorda', 'Asia/Rangoon', 'Asia/Riyadh', 'Asia/Saigon', 'Asia/Sakhalin', 'Asia/Samarkand', 'Asia/Seoul', 'Asia/Shanghai', 'Asia/Singapore', 'Asia/Srednekolymsk', 'Asia/Taipei', 'Asia/Tashkent', 'Asia/Tbilisi', 'Asia/Tehran', 'Asia/Tel_Aviv', 'Asia/Thimbu', 'Asia/Thimphu', 'Asia/Tokyo', 'Asia/Tomsk', 'Asia/Ujung_Pandang', 'Asia/Ulaanbaatar', 'Asia/Ulan_Bator', 'Asia/Urumqi', 'Asia/Ust-Nera', 'Asia/Vientiane', 'Asia/Vladivostok', 'Asia/Yakutsk', 'Asia/Yangon', 'Asia/Yekaterinburg', 'Asia/Yerevan', 'Atlantic/Azores', 'Atlantic/Bermuda', 'Atlantic/Canary', 'Atlantic/Cape_Verde', 'Atlantic/Faeroe', 'Atlantic/Faroe', 'Atlantic/Jan_Mayen', 'Atlantic/Madeira', 'Atlantic/Reykjavik', 'Atlantic/South_Georgia', 'Atlantic/St_Helena', 'Atlantic/Stanley', 'Australia/ACT', 'Australia/Adelaide', 'Australia/Brisbane', 'Australia/Broken_Hill', 'Australia/Canberra', 'Australia/Currie', 'Australia/Darwin', 'Australia/Eucla', 'Australia/Hobart', 'Australia/LHI', 'Australia/Lindeman', 'Australia/Lord_Howe', 'Australia/Melbourne', 'Australia/NSW', 'Australia/North', 'Australia/Perth', 'Australia/Queensland', 'Australia/South', 'Australia/Sydney', 'Australia/Tasmania', 'Australia/Victoria', 'Australia/West', 'Australia/Yancowinna', 'Brazil/Acre', 'Brazil/DeNoronha', 'Brazil/East', 'Brazil/West', 'CET', 'CST6CDT', 'Canada/Atlantic', 'Canada/Central', 'Canada/Eastern', 'Canada/Mountain', 'Canada/Newfoundland', 'Canada/Pacific', 'Canada/Saskatchewan', 'Canada/Yukon', 'Chile/Continental', 'Chile/EasterIsland', 'Cuba', 'EET', 'EST', 'EST5EDT', 'Egypt', 'Eire', 'Etc/GMT', 'Etc/GMT+0', 'Etc/GMT+1', 'Etc/GMT+10', 'Etc/GMT+11', 'Etc/GMT+12', 'Etc/GMT+2', 'Etc/GMT+3', 'Etc/GMT+4', 'Etc/GMT+5', 'Etc/GMT+6', 'Etc/GMT+7', 'Etc/GMT+8', 'Etc/GMT+9', 'Etc/GMT-0', 'Etc/GMT-1', 'Etc/GMT-10', 'Etc/GMT-11', 'Etc/GMT-12', 'Etc/GMT-13', 'Etc/GMT-14', 'Etc/GMT-2', 'Etc/GMT-3', 'Etc/GMT-4', 'Etc/GMT-5', 'Etc/GMT-6', 'Etc/GMT-7', 'Etc/GMT-8', 'Etc/GMT-9', 'Etc/GMT0', 'Etc/Greenwich', 'Etc/UCT', 'Etc/UTC', 'Etc/Universal', 'Etc/Zulu', 'Europe/Amsterdam', 'Europe/Andorra', 'Europe/Astrakhan', 'Europe/Athens', 'Europe/Belfast', 'Europe/Belgrade', 'Europe/Berlin', 'Europe/Bratislava', 'Europe/Brussels', 'Europe/Bucharest', 'Europe/Budapest', 'Europe/Busingen', 'Europe/Chisinau', 'Europe/Copenhagen', 'Europe/Dublin', 'Europe/Gibraltar', 'Europe/Guernsey', 'Europe/Helsinki', 'Europe/Isle_of_Man', 'Europe/Istanbul', 'Europe/Jersey', 'Europe/Kaliningrad', 'Europe/Kiev', 'Europe/Kirov', 'Europe/Kyiv', 'Europe/Lisbon', 'Europe/Ljubljana', 'Europe/London', 'Europe/Luxembourg', 'Europe/Madrid', 'Europe/Malta', 'Europe/Mariehamn', 'Europe/Minsk', 'Europe/Monaco', 'Europe/Moscow', 'Europe/Nicosia', 'Europe/Oslo', 'Europe/Paris', 'Europe/Podgorica', 'Europe/Prague', 'Europe/Riga', 'Europe/Rome', 'Europe/Samara', 'Europe/San_Marino', 'Europe/Sarajevo', 'Europe/Saratov', 'Europe/Simferopol', 'Europe/Skopje', 'Europe/Sofia', 'Europe/Stockholm', 'Europe/Tallinn', 'Europe/Tirane', 'Europe/Tiraspol', 'Europe/Ulyanovsk', 'Europe/Uzhgorod', 'Europe/Vaduz', 'Europe/Vatican', 'Europe/Vienna', 'Europe/Vilnius', 'Europe/Volgograd', 'Europe/Warsaw', 'Europe/Zagreb', 'Europe/Zaporozhye', 'Europe/Zurich', 'GB', 'GB-Eire', 'GMT', 'GMT+0', 'GMT-0', 'GMT0', 'Greenwich', 'HST', 'Hongkong', 'Iceland', 'Indian/Antananarivo', 'Indian/Chagos', 'Indian/Christmas', 'Indian/Cocos', 'Indian/Comoro', 'Indian/Kerguelen', 'Indian/Mahe', 'Indian/Maldives', 'Indian/Mauritius', 'Indian/Mayotte', 'Indian/Reunion', 'Iran', 'Israel', 'Jamaica', 'Japan', 'Kwajalein', 'Libya', 'MET', 'MST', 'MST7MDT', 'Mexico/BajaNorte', 'Mexico/BajaSur', 'Mexico/General', 'NZ', 'NZ-CHAT', 'Navajo', 'PRC', 'PST8PDT', 'Pacific/Apia', 'Pacific/Auckland', 'Pacific/Bougainville', 'Pacific/Chatham', 'Pacific/Chuuk', 'Pacific/Easter', 'Pacific/Efate', 'Pacific/Enderbury', 'Pacific/Fakaofo', 'Pacific/Fiji', 'Pacific/Funafuti', 'Pacific/Galapagos', 'Pacific/Gambier', 'Pacific/Guadalcanal', 'Pacific/Guam', 'Pacific/Honolulu', 'Pacific/Johnston', 'Pacific/Kanton', 'Pacific/Kiritimati', 'Pacific/Kosrae', 'Pacific/Kwajalein', 'Pacific/Majuro', 'Pacific/Marquesas', 'Pacific/Midway', 'Pacific/Nauru', 'Pacific/Niue', 'Pacific/Norfolk', 'Pacific/Noumea', 'Pacific/Pago_Pago', 'Pacific/Palau', 'Pacific/Pitcairn', 'Pacific/Pohnpei', 'Pacific/Ponape', 'Pacific/Port_Moresby', 'Pacific/Rarotonga', 'Pacific/Saipan', 'Pacific/Samoa', 'Pacific/Tahiti', 'Pacific/Tarawa', 'Pacific/Tongatapu', 'Pacific/Truk', 'Pacific/Wake', 'Pacific/Wallis', 'Pacific/Yap', 'Poland', 'Portugal', 'ROC', 'ROK', 'Singapore', 'Turkey', 'UCT', 'US/Alaska', 'US/Aleutian', 'US/Arizona', 'US/Central', 'US/East-Indiana', 'US/Eastern', 'US/Hawaii', 'US/Indiana-Starke', 'US/Michigan', 'US/Mountain', 'US/Pacific', 'US/Samoa', 'UTC', 'Universal', 'W-SU', 'WET', 'Zulu']"
      ]
     },
     "execution_count": 49,
     "metadata": {},
     "output_type": "execute_result"
    }
   ],
   "source": [
    "from pytz import all_timezones\n",
    "all_timezones"
   ]
  },
  {
   "cell_type": "code",
   "execution_count": 50,
   "id": "54b887a3-478d-4063-8750-b67bbb65e509",
   "metadata": {},
   "outputs": [
    {
     "name": "stdout",
     "output_type": "stream",
     "text": [
      "596\n"
     ]
    }
   ],
   "source": [
    "print(len(all_timezones))"
   ]
  },
  {
   "cell_type": "code",
   "execution_count": 51,
   "id": "ac7028a4-42a6-492d-b2a9-cb66921c9fe6",
   "metadata": {},
   "outputs": [
    {
     "data": {
      "text/plain": [
       "DatetimeIndex(['2006-12-16 00:00:00+00:00', '2006-12-17 00:00:00+00:00',\n",
       "               '2006-12-18 00:00:00+00:00', '2006-12-19 00:00:00+00:00',\n",
       "               '2006-12-20 00:00:00+00:00', '2006-12-21 00:00:00+00:00',\n",
       "               '2006-12-22 00:00:00+00:00', '2006-12-23 00:00:00+00:00',\n",
       "               '2006-12-24 00:00:00+00:00', '2006-12-25 00:00:00+00:00',\n",
       "               ...\n",
       "               '2010-11-17 00:00:00+00:00', '2010-11-18 00:00:00+00:00',\n",
       "               '2010-11-19 00:00:00+00:00', '2010-11-20 00:00:00+00:00',\n",
       "               '2010-11-21 00:00:00+00:00', '2010-11-22 00:00:00+00:00',\n",
       "               '2010-11-23 00:00:00+00:00', '2010-11-24 00:00:00+00:00',\n",
       "               '2010-11-25 00:00:00+00:00', '2010-11-26 00:00:00+00:00'],\n",
       "              dtype='datetime64[ns, UTC]', name='datetime', length=1442, freq='D')"
      ]
     },
     "execution_count": 51,
     "metadata": {},
     "output_type": "execute_result"
    }
   ],
   "source": [
    "# Localize to UTC if naive\n",
    "df_daily.index = df_daily.index.tz_localize(\"UTC\")\n",
    "df_daily.index"
   ]
  },
  {
   "cell_type": "code",
   "execution_count": 52,
   "id": "4ad7e9f7-f75b-47e9-b7c4-4200d27e918b",
   "metadata": {},
   "outputs": [
    {
     "data": {
      "text/plain": [
       "DatetimeIndex(['2006-12-16 09:00:00+09:00', '2006-12-17 09:00:00+09:00',\n",
       "               '2006-12-18 09:00:00+09:00', '2006-12-19 09:00:00+09:00',\n",
       "               '2006-12-20 09:00:00+09:00', '2006-12-21 09:00:00+09:00',\n",
       "               '2006-12-22 09:00:00+09:00', '2006-12-23 09:00:00+09:00',\n",
       "               '2006-12-24 09:00:00+09:00', '2006-12-25 09:00:00+09:00',\n",
       "               ...\n",
       "               '2010-11-17 09:00:00+09:00', '2010-11-18 09:00:00+09:00',\n",
       "               '2010-11-19 09:00:00+09:00', '2010-11-20 09:00:00+09:00',\n",
       "               '2010-11-21 09:00:00+09:00', '2010-11-22 09:00:00+09:00',\n",
       "               '2010-11-23 09:00:00+09:00', '2010-11-24 09:00:00+09:00',\n",
       "               '2010-11-25 09:00:00+09:00', '2010-11-26 09:00:00+09:00'],\n",
       "              dtype='datetime64[ns, Asia/Seoul]', name='datetime', length=1442, freq='D')"
      ]
     },
     "execution_count": 52,
     "metadata": {},
     "output_type": "execute_result"
    }
   ],
   "source": [
    "# Convert to local timezone (e.g., Europe/London)\n",
    "df_daily.index = df_daily.index.tz_convert(\"Asia/Seoul\")\n",
    "df_daily.index"
   ]
  },
  {
   "cell_type": "code",
   "execution_count": 53,
   "id": "28e8d6a3-a702-49dd-9a24-2c23db5e6591",
   "metadata": {},
   "outputs": [
    {
     "data": {
      "text/plain": [
       "DatetimeIndex(['2024-01-31 00:00:00+01:00', '2024-02-29 00:00:00+01:00',\n",
       "               '2024-03-31 00:00:00+01:00'],\n",
       "              dtype='datetime64[ns, Europe/Berlin]', freq='ME')"
      ]
     },
     "execution_count": 53,
     "metadata": {},
     "output_type": "execute_result"
    }
   ],
   "source": [
    "range = pd.date_range(start=\"2024-01-01\", end=\"2024-03-31\", freq=\"M\", tz=\"Europe/Berlin\")\n",
    "range"
   ]
  },
  {
   "cell_type": "code",
   "execution_count": 54,
   "id": "857cb679-e3c2-4cc3-ab4e-dc7b5ff77a66",
   "metadata": {},
   "outputs": [
    {
     "data": {
      "text/plain": [
       "array([-0.24873012, -0.18406404,  1.96942466])"
      ]
     },
     "execution_count": 54,
     "metadata": {},
     "output_type": "execute_result"
    }
   ],
   "source": [
    "data = np.random.randn(len(range))\n",
    "data"
   ]
  },
  {
   "cell_type": "code",
   "execution_count": 55,
   "id": "792c6e8b-351a-45f1-9fc6-eedfcfd233bc",
   "metadata": {},
   "outputs": [
    {
     "data": {
      "text/html": [
       "<div>\n",
       "<style scoped>\n",
       "    .dataframe tbody tr th:only-of-type {\n",
       "        vertical-align: middle;\n",
       "    }\n",
       "\n",
       "    .dataframe tbody tr th {\n",
       "        vertical-align: top;\n",
       "    }\n",
       "\n",
       "    .dataframe thead th {\n",
       "        text-align: right;\n",
       "    }\n",
       "</style>\n",
       "<table border=\"1\" class=\"dataframe\">\n",
       "  <thead>\n",
       "    <tr style=\"text-align: right;\">\n",
       "      <th></th>\n",
       "      <th>data</th>\n",
       "    </tr>\n",
       "  </thead>\n",
       "  <tbody>\n",
       "    <tr>\n",
       "      <th>2024-01-31 00:00:00+01:00</th>\n",
       "      <td>-0.248730</td>\n",
       "    </tr>\n",
       "    <tr>\n",
       "      <th>2024-02-29 00:00:00+01:00</th>\n",
       "      <td>-0.184064</td>\n",
       "    </tr>\n",
       "    <tr>\n",
       "      <th>2024-03-31 00:00:00+01:00</th>\n",
       "      <td>1.969425</td>\n",
       "    </tr>\n",
       "  </tbody>\n",
       "</table>\n",
       "</div>"
      ],
      "text/plain": [
       "                               data\n",
       "2024-01-31 00:00:00+01:00 -0.248730\n",
       "2024-02-29 00:00:00+01:00 -0.184064\n",
       "2024-03-31 00:00:00+01:00  1.969425"
      ]
     },
     "execution_count": 55,
     "metadata": {},
     "output_type": "execute_result"
    }
   ],
   "source": [
    "df = pd.DataFrame({\"data\":data}, index=range) # time aware dataframe\n",
    "df"
   ]
  },
  {
   "cell_type": "code",
   "execution_count": null,
   "id": "0c0a4f60-58cc-43a7-95d4-5b0f79d9a85a",
   "metadata": {},
   "outputs": [],
   "source": []
  },
  {
   "cell_type": "code",
   "execution_count": null,
   "id": "621181e5-7e13-48e3-9525-6c9e18a156ca",
   "metadata": {},
   "outputs": [],
   "source": []
  }
 ],
 "metadata": {
  "kernelspec": {
   "display_name": "ml_env",
   "language": "python",
   "name": "ml_env"
  },
  "language_info": {
   "codemirror_mode": {
    "name": "ipython",
    "version": 3
   },
   "file_extension": ".py",
   "mimetype": "text/x-python",
   "name": "python",
   "nbconvert_exporter": "python",
   "pygments_lexer": "ipython3",
   "version": "3.10.6"
  }
 },
 "nbformat": 4,
 "nbformat_minor": 5
}
